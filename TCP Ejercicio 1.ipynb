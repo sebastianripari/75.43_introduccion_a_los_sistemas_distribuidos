{
 "cells": [
  {
   "cell_type": "markdown",
   "metadata": {},
   "source": [
    "# Enunciado"
   ]
  },
  {
   "cell_type": "markdown",
   "metadata": {},
   "source": [
    "Considere el efecto de usar <b>Slow Start</b> en una conexion TCP recien establecida (<b>IW</b> = 2 * MSS, <b>SSTHRESH</b> = 64KB), que tiene un RTT de 10 ms y sin congestion ni errores presentes en la red. La <b>RWND</b> es de 24KB y el <b>MSS</b> es de 2KB."
   ]
  },
  {
   "cell_type": "markdown",
   "metadata": {},
   "source": [
    "Cuanto tiempo transcurre antes de que pueda ser enviada la primera ventana de recepcion llena? (Asumir que el tx de una ventana es una componente despreciable del Delay total de la conexion)"
   ]
  },
  {
   "cell_type": "markdown",
   "metadata": {},
   "source": [
    "<hr>"
   ]
  },
  {
   "cell_type": "markdown",
   "metadata": {},
   "source": [
    "# Resolucion"
   ]
  },
  {
   "cell_type": "markdown",
   "metadata": {},
   "source": [
    "RTT|CWND|RWND|FlightSize|SSTH|Comments\n",
    "-|-|-|-|-|-\n",
    "1|4KB|24KB|4KB|64KB|Se comienza a enviar la IW => FlightSize = IW\n",
    "2|4KB + 4KB=8KB|24KB|8KB|64KB|Se duplica la ventana, CWND = IW * 2\n",
    "3|8KB+8KB=16KB|24KB|16KB|64KB|Se duplica la ventana, CWND = IW * 2 * 2\n",
    "4|16KB+16KB=32KB|24KB|24KB|64KB|Se deberia enviar el doble de lo anterior, pero llegamos al limite de la Receiver Window, se calcula el MINIMO entre Receiver Window y Congestion Window => FlightSize = MINIMO(IW * 2 * 2 * 2, RWND)\n",
    "5|32KB+24KB=56KB|24KB|24KB|64KB|La Congestion Window se armar con lo que habia enviado antes mas lo que logro enviar en esta vuelta"
   ]
  },
  {
   "cell_type": "markdown",
   "metadata": {},
   "source": [
    "Hasta que se envia la primera ventana de recepcion llena, transcurren 4 RTT. En tiempo esto es, 4 * 10ms = 40ms."
   ]
  },
  {
   "cell_type": "markdown",
   "metadata": {},
   "source": [
    "Respuesta final: 40ms"
   ]
  },
  {
   "cell_type": "markdown",
   "metadata": {},
   "source": [
    "### Recordar"
   ]
  },
  {
   "cell_type": "markdown",
   "metadata": {},
   "source": [
    "<b>CWND</b>: Congestion Window<br>\n",
    "<b>RWND</b>: Receiver Window<br>\n",
    "<b>IW</b>: Initial Window<br>\n",
    "<b>Slow Start</b>: Se comienza enviando la Initial Window, y se duplica en cada iteracion."
   ]
  }
 ],
 "metadata": {
  "kernelspec": {
   "display_name": "Python 3",
   "language": "python",
   "name": "python3"
  },
  "language_info": {
   "codemirror_mode": {
    "name": "ipython",
    "version": 3
   },
   "file_extension": ".py",
   "mimetype": "text/x-python",
   "name": "python",
   "nbconvert_exporter": "python",
   "pygments_lexer": "ipython3",
   "version": "3.7.6"
  }
 },
 "nbformat": 4,
 "nbformat_minor": 4
}
