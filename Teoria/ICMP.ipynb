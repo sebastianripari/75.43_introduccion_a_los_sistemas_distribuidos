{
 "cells": [
  {
   "cell_type": "markdown",
   "metadata": {},
   "source": [
    "# ICMP Internet Control Message Protocol"
   ]
  },
  {
   "cell_type": "markdown",
   "metadata": {},
   "source": [
    "Es un protocolo de soporte en la suit de internet protocol (IP). Es usado por dispositivos de red, incluyendo routers, para el envio de mensajes de error and informacion operacional indicando success o failure cuando es comunica con otra IP address, por ejemplo, un error es indicado cuando un servicio requerido no esta disponible o ese host o router no pudo ser alcanado. ICMP difiere de protocolos de transporte como TCP y UDP en que no es tipicamente usado para intercambiar informacion entre sistemas, no es regularmente usado por aplicaciones de red de usuario final con la excepcion de herramientras de diagnostico como ping y traceroute."
   ]
  },
  {
   "cell_type": "markdown",
   "metadata": {},
   "source": [
    "## Estructura del Datagrama"
   ]
  },
  {
   "cell_type": "markdown",
   "metadata": {},
   "source": [
    "El paquete ICMP es encapsulado en un paquete IP. El paquete consiste de un header y seccion de data."
   ]
  },
  {
   "cell_type": "markdown",
   "metadata": {},
   "source": [
    "### Header"
   ]
  },
  {
   "cell_type": "markdown",
   "metadata": {},
   "source": [
    "El header ICMP comienza despues del header IP. Todos los paquetes ICMP tienen un header de 8-byte y variable-sized data section. Los primeros 4 bytes del header tienen formato fixed, mientras que los 4 bytes dependen del tipo/codigo de este paquete ICMP."
   ]
  },
  {
   "cell_type": "markdown",
   "metadata": {},
   "source": [
    "#### ICMP Header Format"
   ]
  },
  {
   "cell_type": "markdown",
   "metadata": {},
   "source": [
    "<img src=\"images/ICMP_header_format.png\" />"
   ]
  },
  {
   "cell_type": "markdown",
   "metadata": {},
   "source": [
    "<b>Type</b><br>\n",
    "ICMP tipo, (hay mensajes de diferente tipo de ICMP).<br>\n",
    "<br>\n",
    "<b>Code</b><br>\n",
    "ICMP subtipo, (hay mensajes de diferente tipo de ICMP).<br>\n",
    "<br>\n",
    "<b>Checksum</b><br>\n",
    "Internet checksum (RFC 1071) para chequeo de errores, calculado usando el header and data con valor 0.<br>\n",
    "<br>\n",
    "<b>Resto del header</b><br>\n",
    "Cuatro-byte field, contiene vary based on the ICMP type and code.<br>"
   ]
  }
 ],
 "metadata": {
  "kernelspec": {
   "display_name": "Python 3",
   "language": "python",
   "name": "python3"
  },
  "language_info": {
   "codemirror_mode": {
    "name": "ipython",
    "version": 3
   },
   "file_extension": ".py",
   "mimetype": "text/x-python",
   "name": "python",
   "nbconvert_exporter": "python",
   "pygments_lexer": "ipython3",
   "version": "3.7.6"
  }
 },
 "nbformat": 4,
 "nbformat_minor": 4
}
