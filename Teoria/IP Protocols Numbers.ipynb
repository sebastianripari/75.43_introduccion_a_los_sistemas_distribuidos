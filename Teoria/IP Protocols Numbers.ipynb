{
 "cells": [
  {
   "cell_type": "markdown",
   "metadata": {},
   "source": [
    "# IP Protocols Numbers"
   ]
  },
  {
   "cell_type": "markdown",
   "metadata": {},
   "source": [
    "Cada protocolo tiene tu numero de protocolo que permite identificarlo."
   ]
  },
  {
   "cell_type": "markdown",
   "metadata": {},
   "source": [
    "Hex|Protocol Number|Keyword|Protocol|References/RFC|\n",
    "-|-|-|-|-|\n",
    "0x00|0|HOPOPT|IPv6 Hop-by-Hop Option|RFC 8200|\n",
    "0x01|1|ICMP|Internet Control Message Protocol|RFC 792|\n",
    "0x02|2|IGMP|Internet Group Management Protocol|RFC 1112|\n",
    "0x03|3|GGP|\tGateway-to-Gateway Protocol|RFC 823|\n",
    "0x04|4|IP-in-IP|IP in IP (encapsulation)|RFC 2003|\n",
    "0x05|5|ST|Internet Stream Protocol|RFC 1190, RFC 1819|\n",
    "0x06|6|TCP|Transmission Control Protocol|RFC 793|\n",
    "...|...|...|...|...|\n",
    "0x11|17|UDP|User Datagram Protocol|RFC 768|"
   ]
  }
 ],
 "metadata": {
  "kernelspec": {
   "display_name": "Python 3",
   "language": "python",
   "name": "python3"
  },
  "language_info": {
   "codemirror_mode": {
    "name": "ipython",
    "version": 3
   },
   "file_extension": ".py",
   "mimetype": "text/x-python",
   "name": "python",
   "nbconvert_exporter": "python",
   "pygments_lexer": "ipython3",
   "version": "3.7.6"
  }
 },
 "nbformat": 4,
 "nbformat_minor": 4
}
