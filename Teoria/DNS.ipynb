{
 "cells": [
  {
   "cell_type": "markdown",
   "metadata": {},
   "source": [
    "# DNS (Domain Name System)"
   ]
  },
  {
   "cell_type": "markdown",
   "metadata": {},
   "source": [
    "Las personas podemos ser identificadas de diferentes maneras, por nombre y apellido, por DNI. Pero dependiendo el caso conviene usar un identificador o otro. Para uso cotidiano es mas sencillo el nombre, y para usos donde se necesita mejor precision se usa el DNI. Lo mismo ocurre con los <b>hosts</b>, podemos identificarlo mediante la <b>IP</b> o bien con el <b>DNS (Domain Name System)</b>. Las personas prefieren utilizar DNS mientras que los <b>routers</b> prefieren utilizar direcciones IP de longitud fija y que sigen una estructura jerarquica."
   ]
  },
  {
   "cell_type": "markdown",
   "metadata": {},
   "source": [
    "<hr>"
   ]
  },
  {
   "cell_type": "markdown",
   "metadata": {},
   "source": [
    "## Servicios proporcionados por DNS"
   ]
  },
  {
   "cell_type": "markdown",
   "metadata": {},
   "source": [
    "Para lograr el funcionamiento de DNS se necesita de un servicio de directorio que traduzca los nombres de host en direcciones IP. Esta es la tarea principal que lleva a cabo el <b>Sistema de nombres de dominio (DNS, Domain Name System)</b>."
   ]
  },
  {
   "cell_type": "markdown",
   "metadata": {},
   "source": [
    "DNS es (1) una <b>base de datos distribuida</b> implementada en una jerarquia de servidores DNS y (2) un protocolo de capa de aplicacion que permite a los hosts consultar la base de datos distribuida. Los servidores DNS suelen ser maquinas UNIX que ejecutan el software BIND (Berkeley Internet Name Domain). El protocolo DNS se ejecuta sobre <b>UDP</b> y utiliza el <b>puerto 53</b>."
   ]
  },
  {
   "cell_type": "markdown",
   "metadata": {},
   "source": [
    "Otros protocolos de capa de aplicacion, como <b>HTTP</b> utilizan <b>DNS</b>, ya que cuando un usuario desea realizar una solicitud a un host como www.google.com, para que pueda enviarle el mensaje primero debe conocer la direccion IP de este host. Esto se hace del siguiente modo:"
   ]
  },
  {
   "cell_type": "markdown",
   "metadata": {},
   "source": [
    "1. La propia maquina cliente ejecuta el lado del cliente de la aplicacion DNS.<br>\n",
    "2. El navegadr extrae el nombre de host, www.google.com, del URL completo, ya que podria ser www.google.com/imagenes/autos.<br>\n",
    "3. El cliente DNS envia una consulta que contiene el nombre de host a un servidor DNS.<br>\n",
    "4. El cliente DNS recibe finalmente una respuesta, que incluye la direccion IP correspondiente al nombre del host.<br>\n",
    "5. Una vez que el navegador recibe la direccion IP del servidor DNS, puede iniciar una conexion TCP con el proceso servidor HTTP localizado en el puerto 80 en esa direccion IP."
   ]
  },
  {
   "cell_type": "markdown",
   "metadata": {},
   "source": [
    "Podemos ver a partir de este ejemplo que DNS añade un retardo adicional, en ocasiones, sustancial, a las aplicaciones de Internet que le utilizan. Afortunadamente, como veremos mas adelante, la direccion IP deseada a menudo esta almacenada en <b>cache</b> en un servidor DNS \"proximo\", lo que ayuda a reducir el trafico de red DNS, asi como el retardo medio del servicio DNS."
   ]
  },
  {
   "cell_type": "markdown",
   "metadata": {},
   "source": [
    "DNS proporciona algunos otros servicios importantes ademas de la traduccion de los nombres de host en direcciones IP:"
   ]
  },
  {
   "cell_type": "markdown",
   "metadata": {},
   "source": [
    "### Alias de host"
   ]
  },
  {
   "cell_type": "markdown",
   "metadata": {},
   "source": [
    "Un host con nombre complciado puede tener uno o mas alias. Por ejemplo, un nombre de host como <b>relay1.west-coast.enterprise.com</b> podria tener, digamos, dos alias como <b>enterprise.com</b> y <b>www.enterprise.com</b>. En este caso, el nombre de host <b>relay1.west-coast.enterprise.com</b> se dice que es el <b>nombre de host canonico</b>. Los alias de nombre de host, cuando existen, normalmente son mas <b>mnemonicos</b> que los nombres canonicos. Una aplicacion puede invocar DNS para obtener el nombre de host canonico para un determinado alias, asi como la direccion IP del host."
   ]
  },
  {
   "cell_type": "markdown",
   "metadata": {},
   "source": [
    "### Alias del servidor de correo"
   ]
  },
  {
   "cell_type": "markdown",
   "metadata": {},
   "source": [
    "### Distribucion de carga"
   ]
  },
  {
   "cell_type": "markdown",
   "metadata": {},
   "source": [
    "<hr>"
   ]
  },
  {
   "cell_type": "markdown",
   "metadata": {},
   "source": [
    "## Como funciona DNS"
   ]
  },
  {
   "cell_type": "markdown",
   "metadata": {},
   "source": []
  }
 ],
 "metadata": {
  "kernelspec": {
   "display_name": "Python 3",
   "language": "python",
   "name": "python3"
  },
  "language_info": {
   "codemirror_mode": {
    "name": "ipython",
    "version": 3
   },
   "file_extension": ".py",
   "mimetype": "text/x-python",
   "name": "python",
   "nbconvert_exporter": "python",
   "pygments_lexer": "ipython3",
   "version": "3.7.6"
  }
 },
 "nbformat": 4,
 "nbformat_minor": 4
}
