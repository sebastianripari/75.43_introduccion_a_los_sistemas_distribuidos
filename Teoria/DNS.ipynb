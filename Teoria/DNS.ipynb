{
 "cells": [
  {
   "cell_type": "markdown",
   "metadata": {},
   "source": [
    "# DNS (Domain Name System)"
   ]
  },
  {
   "cell_type": "markdown",
   "metadata": {},
   "source": [
    "Las personas podemos ser identificadas de diferentes maneras, por nombre y apellido, por DNI. Pero dependiendo el caso conviene usar un identificador o otro. Para uso cotidiano es mas sencillo el nombre, y para usos donde se necesita mejor precision se usa el DNI. Lo mismo ocurre con los <b>hosts</b>, podemos identificarlo mediante la <b>IP</b> o bien con el <b>DNS (Domain Name System)</b>."
   ]
  },
  {
   "cell_type": "markdown",
   "metadata": {},
   "source": [
    "## Servicios proporcionados por DNS"
   ]
  },
  {
   "cell_type": "markdown",
   "metadata": {},
   "source": []
  }
 ],
 "metadata": {
  "kernelspec": {
   "display_name": "Python 3",
   "language": "python",
   "name": "python3"
  },
  "language_info": {
   "codemirror_mode": {
    "name": "ipython",
    "version": 3
   },
   "file_extension": ".py",
   "mimetype": "text/x-python",
   "name": "python",
   "nbconvert_exporter": "python",
   "pygments_lexer": "ipython3",
   "version": "3.7.6"
  }
 },
 "nbformat": 4,
 "nbformat_minor": 4
}
