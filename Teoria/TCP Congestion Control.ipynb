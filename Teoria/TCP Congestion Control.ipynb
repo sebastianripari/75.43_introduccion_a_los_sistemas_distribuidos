{
 "cells": [
  {
   "cell_type": "markdown",
   "metadata": {},
   "source": [
    "# TCP Congestion Control"
   ]
  },
  {
   "cell_type": "markdown",
   "metadata": {},
   "source": [
    "<img src=\"../images/tcp_congestion_control.png\" width=\"600\" />"
   ]
  },
  {
   "cell_type": "markdown",
   "metadata": {},
   "source": [
    "El <b>Control de Congestion</b> es un mecanismo que permite:\n",
    "- Prevenir congestion antes de que ocurra.\n",
    "- Remover congestion cuando esta ocurriendo."
   ]
  },
  {
   "cell_type": "markdown",
   "metadata": {},
   "source": [
    "### TCP Congestion Control"
   ]
  },
  {
   "cell_type": "markdown",
   "metadata": {},
   "source": [
    "TCP reacciona a la congestion reduciendo la <b>sender window size</b>. Es decir reduciendo lo que se envia."
   ]
  },
  {
   "cell_type": "markdown",
   "metadata": {},
   "source": [
    "<b>Sender Window</b> es determinada por dos factores:<br>\n",
    "- <b>Receiver Window</b> size\n",
    "- <b>Congestion Window</b> size"
   ]
  },
  {
   "cell_type": "markdown",
   "metadata": {},
   "source": [
    "### Receiver Window"
   ]
  },
  {
   "cell_type": "markdown",
   "metadata": {},
   "source": [
    "El sender no deberia enviar mas data que <b>Receiver Window</b> size.<br>\n",
    "Caso contrario, se dropearan TCP segments que causara <b>TCP Retransmission</b>.<br>\n",
    "Entonces, el sender siempre deberia enviar data less than or equal que <b>Receiver Window</b> size.<br>\n",
    "Receiver informa esta window size al sender a traves del <b>TCP Header</b>."
   ]
  },
  {
   "cell_type": "markdown",
   "metadata": {},
   "source": [
    "### Congestion Window"
   ]
  },
  {
   "cell_type": "markdown",
   "metadata": {},
   "source": [
    "Sender no deberia enviar mas data que <b>Congestion Window</b> size.<br>\n",
    "Caso contrario, se dropearan TCP segments que causara <b>TCP Retransmission</b>.<br>\n",
    "Entonces, sender deberia siempre enviar data menor que <b>Congestion Window</b> size.<br>\n",
    "Diferentes variantes de TCP usan diferentes estrategias para calcular el size of <b>Congestion Window</b>.<br>\n",
    "<b>Congestion Window</b> es unicamente conocido por el sender.<br>"
   ]
  },
  {
   "cell_type": "markdown",
   "metadata": {},
   "source": [
    "\\begin{equation}\n",
    "Sender Window = Minimum (Receiver Window, Congestion Window)\n",
    "\\end{equation}"
   ]
  },
  {
   "cell_type": "markdown",
   "metadata": {},
   "source": [
    "### Congestion Policy"
   ]
  },
  {
   "cell_type": "markdown",
   "metadata": {},
   "source": [
    "TCP’s general policy for handling congestion consists of following three phases"
   ]
  },
  {
   "cell_type": "markdown",
   "metadata": {},
   "source": [
    "<img src=\"../images/tcp_congestion_phases.png\" width=\"500\" />"
   ]
  },
  {
   "cell_type": "markdown",
   "metadata": {},
   "source": [
    "#### Slow Start Phase"
   ]
  },
  {
   "cell_type": "markdown",
   "metadata": {},
   "source": [
    "Inicialmente, sender setea <b>Congestion Window = Maximum Segment Size (1 MSS)</b>.<br>\n",
    "Despues de recibir cada acknowledgment, sender incrementa la <b>Congestion Window</b> size por 1 MSS.<br>\n",
    "En esta fase, the size de <b>Congestion Window</b> se incrementa EXPONENCIALMENTE.<br>"
   ]
  },
  {
   "cell_type": "markdown",
   "metadata": {},
   "source": [
    "Por cada <b>ACK</b>:"
   ]
  },
  {
   "cell_type": "markdown",
   "metadata": {},
   "source": [
    "\\begin{equation}\n",
    "Congestion Window = Congestion Window + Maximum Segment Size\n",
    "\\end{equation}"
   ]
  },
  {
   "cell_type": "markdown",
   "metadata": {},
   "source": [
    "<img src=\"../images/tcp_congestion_window_grow.png\" width=\"400\"/>"
   ]
  },
  {
   "cell_type": "markdown",
   "metadata": {},
   "source": [
    "After 1 round trip time => congestion window size = (2)^1 = 2 MSS<br>\n",
    "After 2 round trip time => congestion window size = (2)^2 = 4 MSS<br>\n",
    "After 3 round trip time => congestion window size = (2)^3 = 8 MSS and so on.<br>"
   ]
  },
  {
   "cell_type": "markdown",
   "metadata": {},
   "source": [
    "Esta fase continua hasta the <b>Congestion Window</b> alcanza the <b>Slow Start Threshold</b><br>"
   ]
  },
  {
   "cell_type": "markdown",
   "metadata": {},
   "source": [
    "\\begin{equation}\n",
    "Threshold = \\frac{Maximum number of TCP segments that receiver window can accommodate}{2}\n",
    "\\end{equation}"
   ]
  }
 ],
 "metadata": {
  "kernelspec": {
   "display_name": "Python 3",
   "language": "python",
   "name": "python3"
  },
  "language_info": {
   "codemirror_mode": {
    "name": "ipython",
    "version": 3
   },
   "file_extension": ".py",
   "mimetype": "text/x-python",
   "name": "python",
   "nbconvert_exporter": "python",
   "pygments_lexer": "ipython3",
   "version": "3.7.6"
  }
 },
 "nbformat": 4,
 "nbformat_minor": 4
}
