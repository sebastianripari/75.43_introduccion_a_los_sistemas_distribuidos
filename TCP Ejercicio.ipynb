{
 "cells": [
  {
   "cell_type": "markdown",
   "metadata": {},
   "source": [
    "# Enunciado"
   ]
  },
  {
   "cell_type": "markdown",
   "metadata": {},
   "source": [
    "Considere el efecto de usar <b>Slow Start</b> en una conexion TCP recien establecida (<b>IW</b> = 2 * MSS, <b>SSTHRESH</b> = 64KB), que tiene un RTT de 10 ms y sin congestion ni errores presentes en la red. La <b>RWND</b> es de 24KB y el <b>MSS</b> es de 2KB."
   ]
  },
  {
   "cell_type": "markdown",
   "metadata": {},
   "source": [
    "Cuanto tiempo transcurre antes de que pueda ser enviada la primera ventana de recepcion llena? (Asumir que el tx de una ventana es una componente despreciable del Delay total de la conexion)"
   ]
  },
  {
   "cell_type": "markdown",
   "metadata": {},
   "source": [
    "<hr>"
   ]
  },
  {
   "cell_type": "markdown",
   "metadata": {},
   "source": [
    "# Resolucion"
   ]
  },
  {
   "cell_type": "markdown",
   "metadata": {},
   "source": [
    "RTT|CWND|RWND|FlightSize|Recv Bytes|SSTH|Comments|\n",
    "-|-|-|-|-|-|-|\n",
    "-|-|-|-|-|-|-|\n",
    "-|-|-|-|-|-|-|\n",
    "-|-|-|-|-|-|-|\n",
    "-|-|-|-|-|-|-|\n",
    "-|-|-|-|-|-|-|\n",
    "-|-|-|-|-|-|-|"
   ]
  }
 ],
 "metadata": {
  "kernelspec": {
   "display_name": "Python 3",
   "language": "python",
   "name": "python3"
  },
  "language_info": {
   "codemirror_mode": {
    "name": "ipython",
    "version": 3
   },
   "file_extension": ".py",
   "mimetype": "text/x-python",
   "name": "python",
   "nbconvert_exporter": "python",
   "pygments_lexer": "ipython3",
   "version": "3.7.6"
  }
 },
 "nbformat": 4,
 "nbformat_minor": 4
}
