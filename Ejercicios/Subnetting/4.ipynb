{
 "cells": [
  {
   "cell_type": "markdown",
   "metadata": {},
   "source": [
    "# Enunciado"
   ]
  },
  {
   "cell_type": "markdown",
   "metadata": {},
   "source": [
    "Dada la siguiente configuración de hosts y routers, y el espacio <b>193.0.0.0/23</b>, se pide separar en\n",
    "subredes minimizando la cantidad de IPs sin usar."
   ]
  },
  {
   "cell_type": "markdown",
   "metadata": {},
   "source": [
    "Estas aclaraciones definen una única resolución posible de la configuración. Cualquier otra solución\n",
    "será considerada incorrecta."
   ]
  },
  {
   "cell_type": "markdown",
   "metadata": {},
   "source": [
    "<img src=\"../../images/subnetting_parcial.png\" width=\"500\" />"
   ]
  },
  {
   "cell_type": "markdown",
   "metadata": {},
   "source": [
    "<hr>"
   ]
  },
  {
   "cell_type": "markdown",
   "metadata": {},
   "source": [
    "# Resolucion"
   ]
  },
  {
   "cell_type": "markdown",
   "metadata": {},
   "source": [
    "193.0.0.0/23"
   ]
  },
  {
   "cell_type": "markdown",
   "metadata": {},
   "source": [
    "SubNet|#Host|#Router|Block|Prefix/Mask\n",
    "-|-|-|-|-\n",
    "A|50|1|64|193.0.0.128/26\n",
    "B|25|1|32|193.0.1.0/27\n",
    "C|5|1|8|193.0.1.64/29\n",
    "D|40|1|64|193.0.0.192/26\n",
    "E|13|2|32|193.0.1.32/27\n",
    "F|120|1|128|193.0.0.0/25\n",
    "G|0|2|4|193.0.1.72/30\n",
    "H|0|2|4|193.0.1.76/30\n",
    "I|0|2|4|193.0.1.80/30"
   ]
  }
 ],
 "metadata": {
  "kernelspec": {
   "display_name": "Python 3",
   "language": "python",
   "name": "python3"
  },
  "language_info": {
   "codemirror_mode": {
    "name": "ipython",
    "version": 3
   },
   "file_extension": ".py",
   "mimetype": "text/x-python",
   "name": "python",
   "nbconvert_exporter": "python",
   "pygments_lexer": "ipython3",
   "version": "3.7.6"
  }
 },
 "nbformat": 4,
 "nbformat_minor": 4
}
