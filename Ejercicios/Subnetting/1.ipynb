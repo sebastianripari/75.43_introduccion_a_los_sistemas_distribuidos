{
 "cells": [
  {
   "cell_type": "markdown",
   "metadata": {},
   "source": [
    "# Enunciado"
   ]
  },
  {
   "cell_type": "markdown",
   "metadata": {},
   "source": [
    "Se tiene la siguiente <b>topologia</b>:"
   ]
  },
  {
   "cell_type": "markdown",
   "metadata": {},
   "source": [
    "<img src=\"../../images/topologia.png\" width=\"600px\" />"
   ]
  },
  {
   "cell_type": "markdown",
   "metadata": {},
   "source": [
    "Y el siguiente <b>espacio de direcciones</b>:"
   ]
  },
  {
   "cell_type": "markdown",
   "metadata": {},
   "source": [
    "201.10.3.0/24"
   ]
  },
  {
   "cell_type": "markdown",
   "metadata": {},
   "source": [
    "<hr>"
   ]
  },
  {
   "cell_type": "markdown",
   "metadata": {},
   "source": [
    "### Aclaraciones:"
   ]
  },
  {
   "cell_type": "markdown",
   "metadata": {},
   "source": [
    "##### Router"
   ]
  },
  {
   "cell_type": "markdown",
   "metadata": {},
   "source": [
    "<img src=\"../../images/router.png\" width=\"160px\" />"
   ]
  },
  {
   "cell_type": "markdown",
   "metadata": {},
   "source": [
    "#### Host "
   ]
  },
  {
   "cell_type": "markdown",
   "metadata": {},
   "source": [
    "<img src=\"../../images/host.png\" width=\"160px\" />"
   ]
  },
  {
   "cell_type": "markdown",
   "metadata": {},
   "source": [
    "#### 60 host conectados a un router "
   ]
  },
  {
   "cell_type": "markdown",
   "metadata": {},
   "source": [
    "<img src=\"../../images/host_router.png\" width=\"160px\" />"
   ]
  },
  {
   "cell_type": "markdown",
   "metadata": {},
   "source": [
    "<hr>"
   ]
  },
  {
   "cell_type": "markdown",
   "metadata": {},
   "source": [
    "### Analisis a Priori:"
   ]
  },
  {
   "cell_type": "markdown",
   "metadata": {},
   "source": [
    "- 12 <b>subredes</b>: Debido a que cada uno de los enlaces es una subred. Tenemos 6 enlaces y 6 subredes de host conectados a routers. Esto suma 12.\n",
    "- 4 <b>routers</b>\n",
    "- 6 <b>enlaces entre routers</b>"
   ]
  },
  {
   "cell_type": "markdown",
   "metadata": {},
   "source": [
    "<img src=\"../../images/topologia_subredes.png\" width=\"600px\" />"
   ]
  },
  {
   "cell_type": "markdown",
   "metadata": {},
   "source": [
    "Del espacio de direcciones que es 201.10.3.0/24. Vemos que es un /24, esta es una clase C. Hacemos 32 - 24, esto es 8, hacemos 2^8, que es 256. Nos permite direccionar 256 direcciones IP. De 0 a 255."
   ]
  },
  {
   "cell_type": "markdown",
   "metadata": {},
   "source": [
    "<img src=\"../../images/torta_direcciones.png\" width=\"200px\" />"
   ]
  },
  {
   "cell_type": "markdown",
   "metadata": {},
   "source": [
    "<hr>"
   ]
  },
  {
   "cell_type": "markdown",
   "metadata": {},
   "source": [
    "Debemos arrancar con la subred mas grande y luego ir hacia las mas chicas. Las dos mas grandes son <b>C1</b> y <b>C2</b> con 60 hosts."
   ]
  },
  {
   "cell_type": "markdown",
   "metadata": {},
   "source": [
    "- Para <b>C1</b> necesito 63 IPs:\n",
    " - 60 IPs de hosts\n",
    " - 01 IP  del Router\n",
    " - 01 IP  de Broadcast\n",
    " - 01 IP  de Red"
   ]
  },
  {
   "cell_type": "markdown",
   "metadata": {},
   "source": [
    "- Idem <b>C2</b>"
   ]
  },
  {
   "cell_type": "markdown",
   "metadata": {},
   "source": [
    "Como necesitamos 63 IPs debemos buscar el numero potencia de dos mas cercano, este es 64. El paso que sigue es dividir la torta en porciones de 64."
   ]
  },
  {
   "cell_type": "markdown",
   "metadata": {},
   "source": [
    "<img src=\"../../images/torta_direcciones_64.png\" width=\"200px\" />"
   ]
  },
  {
   "cell_type": "markdown",
   "metadata": {},
   "source": [
    "<img src=\"../../images/torta_direcciones_64_c1_c2.png\" width=\"200px\" />"
   ]
  },
  {
   "cell_type": "markdown",
   "metadata": {},
   "source": [
    "Subred|Direccion de la Subred\n",
    "-|-\n",
    "C1|201.10.3.64/26\n",
    "C2|201.10.3.128/26"
   ]
  },
  {
   "cell_type": "markdown",
   "metadata": {},
   "source": [
    "<b>Observacion</b>: Necesito una mascara 26 debido a que es una subred de 64 direcciones. Esto sale de 32 - 26, es 6, 2^6 es 64."
   ]
  },
  {
   "cell_type": "markdown",
   "metadata": {},
   "source": [
    "Ahora vamos a ubicar <b>B1</b> y <b>B2</b>"
   ]
  },
  {
   "cell_type": "markdown",
   "metadata": {},
   "source": [
    "- Para <b>B1</b> necesito 31 IPs:\n",
    " - 28 IPs de hosts\n",
    " - 01 IP de Router\n",
    " - 01 IP de Broadcast\n",
    " - 01 IP de Red"
   ]
  },
  {
   "cell_type": "markdown",
   "metadata": {},
   "source": [
    "- Idem <b>B2</b>"
   ]
  },
  {
   "cell_type": "markdown",
   "metadata": {},
   "source": [
    "<img src=\"../../images/torta_direcciones_64_32.png\" width=\"200px\" />"
   ]
  },
  {
   "cell_type": "markdown",
   "metadata": {},
   "source": [
    "Subred|Direccion de la Subred\n",
    "-|-\n",
    "C1|201.10.3.64/26\n",
    "C2|201.10.3.128/26\n",
    "B1|201.10.3.32/27\n",
    "B2|201.10.3.192/27"
   ]
  },
  {
   "cell_type": "markdown",
   "metadata": {},
   "source": [
    "Ahora vamos a ubicar <b>A1</b> y <b>A2</b>"
   ]
  },
  {
   "cell_type": "markdown",
   "metadata": {},
   "source": [
    "- Para <b>A1</b> necesito 15 IPs:\n",
    " - 12 IPs de hosts\n",
    " - 01 IP de Router\n",
    " - 01 IP de Broadcast\n",
    " - 01 IP de Red"
   ]
  },
  {
   "cell_type": "markdown",
   "metadata": {},
   "source": [
    "- Idem <b>A2</b>"
   ]
  },
  {
   "cell_type": "markdown",
   "metadata": {},
   "source": [
    "<img src=\"../../images/torta_direcciones_64_32_16.png\" width=\"200px\" />"
   ]
  },
  {
   "cell_type": "markdown",
   "metadata": {},
   "source": [
    "Subred|Direccion de la Subred\n",
    "-|-\n",
    "C1|201.10.3.64/26\n",
    "C2|201.10.3.128/26\n",
    "B1|201.10.3.32/27\n",
    "B2|201.10.3.192/27\n",
    "A1|201.10.3.16/28\n",
    "A2|201.10.0.224/28"
   ]
  },
  {
   "cell_type": "markdown",
   "metadata": {},
   "source": [
    "Ahora vamos a ubicar <b>D1</b>, <b>D2</b>, <b>D3</b>, <b>D4</b>, <b>D5</b> y <b>D6</b>"
   ]
  },
  {
   "cell_type": "markdown",
   "metadata": {},
   "source": [
    "- Para <b>D1</b> necesito 3 IPs:\n",
    " - 00 IP de hosts\n",
    " - 01 IP de Router\n",
    " - 01 IP de Broadcast\n",
    " - 01 IP de Red"
   ]
  },
  {
   "cell_type": "markdown",
   "metadata": {},
   "source": [
    "- Idem <b>D1<b>"
   ]
  },
  {
   "cell_type": "markdown",
   "metadata": {},
   "source": [
    "- Idem <b>D2<b>"
   ]
  },
  {
   "cell_type": "markdown",
   "metadata": {},
   "source": [
    "- Idem <b>D3<b>"
   ]
  },
  {
   "cell_type": "markdown",
   "metadata": {},
   "source": [
    "- Idem <b>D4<b>"
   ]
  },
  {
   "cell_type": "markdown",
   "metadata": {},
   "source": [
    "- Idem <b>D5<b>"
   ]
  },
  {
   "cell_type": "markdown",
   "metadata": {},
   "source": [
    "- Idem <b>D6<b>"
   ]
  },
  {
   "cell_type": "markdown",
   "metadata": {},
   "source": [
    "<img src=\"../../images/torta_direcciones_64_32_16_4.png\" width=\"200px\" />"
   ]
  },
  {
   "cell_type": "markdown",
   "metadata": {},
   "source": [
    "Subred|Direccion de la Subred\n",
    "-|-\n",
    "C1|201.10.3.64/26\n",
    "C2|201.10.3.128/26\n",
    "B1|201.10.3.32/27\n",
    "B2|201.10.3.192/27\n",
    "A2|201.10.3.16/28\n",
    "A1|201.10.3.224/28\n",
    "D1|201.10.3.12/30\n",
    "D2|201.10.3.8/30\n",
    "D3|201.10.3.4/30\n",
    "D4|201.10.3.240/30\n",
    "D5|201.10.3.244/30\n",
    "D6|201.10.3.248/30"
   ]
  }
 ],
 "metadata": {
  "kernelspec": {
   "display_name": "Python 3",
   "language": "python",
   "name": "python3"
  },
  "language_info": {
   "codemirror_mode": {
    "name": "ipython",
    "version": 3
   },
   "file_extension": ".py",
   "mimetype": "text/x-python",
   "name": "python",
   "nbconvert_exporter": "python",
   "pygments_lexer": "ipython3",
   "version": "3.7.6"
  }
 },
 "nbformat": 4,
 "nbformat_minor": 4
}
