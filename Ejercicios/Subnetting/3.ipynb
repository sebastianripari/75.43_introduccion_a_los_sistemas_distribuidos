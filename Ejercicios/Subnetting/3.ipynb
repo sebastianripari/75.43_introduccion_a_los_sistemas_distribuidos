{
 "cells": [
  {
   "cell_type": "markdown",
   "metadata": {},
   "source": [
    "# Enunciado"
   ]
  },
  {
   "cell_type": "markdown",
   "metadata": {},
   "source": [
    "Dada la siguiente configuracion de hosts y routers, y el espacio <b>192.168.0.0/23</b>, se pide separar en subredes minimizando la cantidad de IPs sin usar."
   ]
  },
  {
   "cell_type": "markdown",
   "metadata": {},
   "source": [
    "Ante igualdad de condiciones para ubicar varias subredes:"
   ]
  },
  {
   "cell_type": "markdown",
   "metadata": {},
   "source": [
    "1) <b>Asignar bloques utilizando los prefijos en orden de numeracion ascendente</b>"
   ]
  },
  {
   "cell_type": "markdown",
   "metadata": {},
   "source": [
    "2) <b>Asignar bloques de direcciones priorizando las redes con mayor cantidad de hosts</b>"
   ]
  },
  {
   "cell_type": "markdown",
   "metadata": {},
   "source": [
    "3) <b>Si dos subredes necesitan la misma cantidad de IPs, ubicar primero la subred cuya letra viene primero en el abecedario</b>."
   ]
  },
  {
   "cell_type": "markdown",
   "metadata": {},
   "source": [
    "<b>Este criterio arbitrario define una unica solucion posible de la configuracion. Cualquier otra solucion sera considerada incorrecta</b>"
   ]
  },
  {
   "cell_type": "markdown",
   "metadata": {},
   "source": [
    "<img src=\"../../images/topologia_subnetting_parcial.png\" width=\"600px\" />"
   ]
  },
  {
   "cell_type": "markdown",
   "metadata": {},
   "source": [
    "Red: <b>192.168.0.0/23</b>"
   ]
  },
  {
   "cell_type": "markdown",
   "metadata": {},
   "source": [
    "SubNet|#Host|#Router|Block|Prefix/Mask\n",
    "-|-|-|-|-\n",
    "A|-|-|-|-\n",
    "B|-|-|-|-\n",
    "C|-|-|-|-\n",
    "D|-|-|-|-\n",
    "E|-|-|-|-\n",
    "F|-|-|-|-\n",
    "G|-|-|-|-"
   ]
  },
  {
   "cell_type": "markdown",
   "metadata": {},
   "source": [
    "<hr>"
   ]
  }
 ],
 "metadata": {
  "kernelspec": {
   "display_name": "Python 3",
   "language": "python",
   "name": "python3"
  },
  "language_info": {
   "codemirror_mode": {
    "name": "ipython",
    "version": 3
   },
   "file_extension": ".py",
   "mimetype": "text/x-python",
   "name": "python",
   "nbconvert_exporter": "python",
   "pygments_lexer": "ipython3",
   "version": "3.7.6"
  }
 },
 "nbformat": 4,
 "nbformat_minor": 4
}
