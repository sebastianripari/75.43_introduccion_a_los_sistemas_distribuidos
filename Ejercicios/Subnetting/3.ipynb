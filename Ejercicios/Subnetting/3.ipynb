{
 "cells": [
  {
   "cell_type": "markdown",
   "metadata": {},
   "source": [
    "# Enunciado"
   ]
  },
  {
   "cell_type": "markdown",
   "metadata": {},
   "source": [
    "Dada la siguiente configuracion de hosts y routers, y el espacio <b>192.168.0.0/23</b>, se pide separar en subredes minimizando la cantidad de IPs sin usar."
   ]
  },
  {
   "cell_type": "markdown",
   "metadata": {},
   "source": [
    "Ante igualdad de condiciones para ubicar varias subredes:"
   ]
  },
  {
   "cell_type": "markdown",
   "metadata": {},
   "source": [
    "1) <b>Asignar bloques utilizando los prefijos en orden de numeracion ascendente</b>"
   ]
  },
  {
   "cell_type": "markdown",
   "metadata": {},
   "source": [
    "2) <b>Asignar bloques de direcciones priorizando las redes con mayor cantidad de hosts</b>"
   ]
  },
  {
   "cell_type": "markdown",
   "metadata": {},
   "source": [
    "3) <b>Si dos subredes necesitan la misma cantidad de IPs, ubicar primero la subred cuya letra viene primero en el abecedario</b>."
   ]
  },
  {
   "cell_type": "markdown",
   "metadata": {},
   "source": [
    "<b>Este criterio arbitrario define una unica solucion posible de la configuracion. Cualquier otra solucion sera considerada incorrecta</b>"
   ]
  },
  {
   "cell_type": "markdown",
   "metadata": {},
   "source": [
    "<img src=\"../../images/topologia_subnetting_parcial.png\" width=\"600px\" />"
   ]
  },
  {
   "cell_type": "markdown",
   "metadata": {},
   "source": [
    "Red: <b>192.168.0.0/23</b>"
   ]
  },
  {
   "cell_type": "markdown",
   "metadata": {},
   "source": [
    "SubNet|#Host|#Router|Block|Prefix/Mask\n",
    "-|-|-|-|-\n",
    "A|-|-|-|-\n",
    "B|-|-|-|-\n",
    "C|-|-|-|-\n",
    "D|-|-|-|-\n",
    "E|-|-|-|-\n",
    "F|-|-|-|-\n",
    "G|-|-|-|-\n",
    "H|-|-|-|-\n",
    "I|-|-|-|-"
   ]
  },
  {
   "cell_type": "markdown",
   "metadata": {},
   "source": [
    "<hr>"
   ]
  },
  {
   "cell_type": "markdown",
   "metadata": {},
   "source": [
    "# Resolucion"
   ]
  },
  {
   "cell_type": "markdown",
   "metadata": {},
   "source": [
    "Completemos primero la cantidad de <b>hosts</b> que tiene cada <b>subred</b>"
   ]
  },
  {
   "cell_type": "markdown",
   "metadata": {},
   "source": [
    "SubNet|#Host|#Router|Block|Prefix/Mask\n",
    "-|-|-|-|-\n",
    "A|80|-|-|-\n",
    "B|8|-|-|-\n",
    "C|29|-|-|-\n",
    "D|12|-|-|-\n",
    "E|60|-|-|-\n",
    "F|20|-|-|-\n",
    "G|0|-|-|-\n",
    "H|0|-|-|-\n",
    "I|0|-|-|-"
   ]
  },
  {
   "cell_type": "markdown",
   "metadata": {},
   "source": [
    "Luego completemos la cantidad de <b>routers</b> que tiene cada <b>subred</b>"
   ]
  },
  {
   "cell_type": "markdown",
   "metadata": {},
   "source": [
    "SubNet|#Host|#Router|Block|Prefix/Mask\n",
    "-|-|-|-|-\n",
    "A|80|1|-|-\n",
    "B|8|1|-|-\n",
    "C|29|2|-|-\n",
    "D|12|1|-|-\n",
    "E|60|1|-|-\n",
    "F|20|1|-|-\n",
    "G|0|2|-|-\n",
    "H|0|2|-|-\n",
    "I|0|2|-|-"
   ]
  },
  {
   "cell_type": "markdown",
   "metadata": {},
   "source": [
    "Luego completemos con el <b>bloque</b> necesario que debemos asignar a cada subred. Recordar que debe ser un numero potencia de dos"
   ]
  },
  {
   "cell_type": "markdown",
   "metadata": {},
   "source": [
    "SubNet|#Host|#Router|Block|Prefix/Mask\n",
    "-|-|-|-|-\n",
    "A|80|1|128|-\n",
    "B|8|1|16|-\n",
    "C|29|2|64|-\n",
    "D|12|1|16|-\n",
    "E|60|1|64|-\n",
    "F|20|1|32|-\n",
    "G|0|2|4|-\n",
    "H|0|2|4|-\n",
    "I|0|2|4|-"
   ]
  },
  {
   "cell_type": "markdown",
   "metadata": {},
   "source": [
    "Luego completemos el <b>Prefix/Mask</b>"
   ]
  },
  {
   "cell_type": "markdown",
   "metadata": {},
   "source": [
    "El orden es <b>descendente en cantidad de bloques</b>. Por lo tanto comenzamos con el mas grande, que es el de 128, el A."
   ]
  },
  {
   "cell_type": "markdown",
   "metadata": {},
   "source": [
    "192.168.0.0"
   ]
  },
  {
   "cell_type": "markdown",
   "metadata": {},
   "source": [
    "SubNet|#Host|#Router|Block|Prefix/Mask\n",
    "-|-|-|-|-\n",
    "A|80|1|128|192.168.0.0/25\n",
    "B|8|1|16|-\n",
    "C|29|2|64|-\n",
    "D|12|1|16|-\n",
    "E|60|1|64|-\n",
    "F|20|1|32|-\n",
    "G|0|2|4|-\n",
    "H|0|2|4|-\n",
    "I|0|2|4|-"
   ]
  },
  {
   "cell_type": "markdown",
   "metadata": {},
   "source": [
    "Seguimos con bloques de 64, vemos que tenemos dos <b>C</b> y <b>E</b>. Ahora bien, el criterio de desempate es el que tiene mas hosts, entonces elegimos el <b>E</b>"
   ]
  },
  {
   "cell_type": "markdown",
   "metadata": {},
   "source": [
    "SubNet|#Host|#Router|Block|Prefix/Mask\n",
    "-|-|-|-|-\n",
    "A|80|1|128|192.168.0.0/25\n",
    "B|8|1|16|-\n",
    "C|29|2|64|-\n",
    "D|12|1|16|-\n",
    "E|60|1|64|192.168.0.128/26\n",
    "F|20|1|32|-\n",
    "G|0|2|4|-\n",
    "H|0|2|4|-\n",
    "I|0|2|4|-"
   ]
  },
  {
   "cell_type": "markdown",
   "metadata": {},
   "source": [
    "Seguimos con la <b>C</b>"
   ]
  },
  {
   "cell_type": "markdown",
   "metadata": {},
   "source": [
    "SubNet|#Host|#Router|Block|Prefix/Mask\n",
    "-|-|-|-|-\n",
    "A|80|1|128|192.168.0.0/25\n",
    "B|8|1|16|-\n",
    "C|29|2|64|192.168.0.192/26\n",
    "D|12|1|16|-\n",
    "E|60|1|64|192.168.0.128/26\n",
    "F|20|1|32|-\n",
    "G|0|2|4|-\n",
    "H|0|2|4|-\n",
    "I|0|2|4|-"
   ]
  },
  {
   "cell_type": "markdown",
   "metadata": {},
   "source": [
    "Seguimos con <b>F</b>:"
   ]
  },
  {
   "cell_type": "markdown",
   "metadata": {},
   "source": [
    "SubNet|#Host|#Router|Block|Prefix/Mask\n",
    "-|-|-|-|-\n",
    "A|80|1|128|192.168.0.0/25\n",
    "B|8|1|16|-\n",
    "C|29|2|64|192.168.0.192/26\n",
    "D|12|1|16|-\n",
    "E|60|1|64|192.168.0.128/26\n",
    "F|20|1|32|192.168.1.0/27\n",
    "G|0|2|4|-\n",
    "H|0|2|4|-\n",
    "I|0|2|4|-"
   ]
  },
  {
   "cell_type": "markdown",
   "metadata": {},
   "source": [
    "Ahora seguimos con bloques de <b>16</b>, la que mas hosts tiene es <b>D</b>"
   ]
  },
  {
   "cell_type": "markdown",
   "metadata": {},
   "source": [
    "SubNet|#Host|#Router|Block|Prefix/Mask\n",
    "-|-|-|-|-\n",
    "A|80|1|128|192.168.0.0/25\n",
    "B|8|1|16|-\n",
    "C|29|2|64|192.168.0.192/26\n",
    "D|12|1|16|192.168.1.32/28\n",
    "E|60|1|64|192.168.0.128/26\n",
    "F|20|1|32|192.168.1.0/27\n",
    "G|0|2|4|-\n",
    "H|0|2|4|-\n",
    "I|0|2|4|-"
   ]
  },
  {
   "cell_type": "markdown",
   "metadata": {},
   "source": [
    "Seguimos con la <b>B</b>"
   ]
  },
  {
   "cell_type": "markdown",
   "metadata": {},
   "source": [
    "SubNet|#Host|#Router|Block|Prefix/Mask\n",
    "-|-|-|-|-\n",
    "A|80|1|128|192.168.0.0/25\n",
    "B|8|1|16|192.168.1.48/28\n",
    "C|29|2|64|192.168.0.192/26\n",
    "D|12|1|16|192.168.1.32/28\n",
    "E|60|1|64|192.168.0.128/26\n",
    "F|20|1|32|192.168.1.0/27\n",
    "G|0|2|4|-\n",
    "H|0|2|4|-\n",
    "I|0|2|4|-"
   ]
  },
  {
   "cell_type": "markdown",
   "metadata": {},
   "source": [
    "Ahora vemos que las tres que quedan tienen bloques del mismo tamaño y igual cantidad de hosts. Por lo tanto seguimos orden alfabetico. Por lo tanto seguimos con la <b>G</b>. Luego <b>H</b> y por ultimo <b>I</b>."
   ]
  },
  {
   "cell_type": "markdown",
   "metadata": {},
   "source": [
    "SubNet|#Host|#Router|Block|Prefix/Mask\n",
    "-|-|-|-|-\n",
    "A|80|1|128|192.168.0.0/25\n",
    "B|8|1|16|192.168.1.48/28\n",
    "C|29|2|64|192.168.0.192/26\n",
    "D|12|1|16|192.168.1.32/28\n",
    "E|60|1|64|192.168.0.128/26\n",
    "F|20|1|32|192.168.1.0/27\n",
    "G|0|2|4|192.168.1.64/30\n",
    "H|0|2|4|192.168.1.68/30\n",
    "I|0|2|4|192.168.1.72/30"
   ]
  }
 ],
 "metadata": {
  "kernelspec": {
   "display_name": "Python 3",
   "language": "python",
   "name": "python3"
  },
  "language_info": {
   "codemirror_mode": {
    "name": "ipython",
    "version": 3
   },
   "file_extension": ".py",
   "mimetype": "text/x-python",
   "name": "python",
   "nbconvert_exporter": "python",
   "pygments_lexer": "ipython3",
   "version": "3.7.6"
  }
 },
 "nbformat": 4,
 "nbformat_minor": 4
}
