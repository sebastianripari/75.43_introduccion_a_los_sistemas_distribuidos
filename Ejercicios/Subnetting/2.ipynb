{
 "cells": [
  {
   "cell_type": "markdown",
   "metadata": {},
   "source": [
    "# Enunciado"
   ]
  },
  {
   "cell_type": "markdown",
   "metadata": {},
   "source": [
    "Considere la siguiente tabla de ruteo:"
   ]
  },
  {
   "cell_type": "markdown",
   "metadata": {},
   "source": [
    "Network Destination|Netmask|Interface de Salida\n",
    "-|-|-\n",
    "155.91.14.0|255.255.255.192|if1\n",
    "157.93.224.0|255.255.224.0|if3\n",
    "157.93.192.0|255.255.224.0|if3\n",
    "157.128.39.64|255.255.255.192|if1\n",
    "157.128.39.128|255.255.255.192|if1\n",
    "157.92.192.0|255.255.240.0|if2\n",
    "157.92.208.0|255.255.240.0|if2\n",
    "157.92.224.0|255.255.240.0|if2\n",
    "157.92.240.0|255.255.240.0|if2\n",
    "157.92.241.0|255.255.240.0|if2\n",
    "157.93.0.0|255.255.255.0|if0\n",
    "157.93.0.1|255.255.255.0|if1"
   ]
  },
  {
   "cell_type": "markdown",
   "metadata": {},
   "source": [
    "Se pide:<br>\n",
    "a. Optimizar las entradas de la tabla.<br>\n",
    "b. Configurar un default gateway, agregando una entrada cuya interfaz de salida sea if2<br>\n",
    "c. Para la tabla optimizada y con default gateway, determinar la interfaz de salida para la ip de destino:\n",
    " - 157.93.252.12\n",
    " - 159.92.192.8"
   ]
  },
  {
   "cell_type": "markdown",
   "metadata": {},
   "source": [
    "<hr>"
   ]
  },
  {
   "cell_type": "markdown",
   "metadata": {},
   "source": [
    "# Resolucion"
   ]
  },
  {
   "cell_type": "markdown",
   "metadata": {},
   "source": [
    "a)"
   ]
  },
  {
   "cell_type": "markdown",
   "metadata": {},
   "source": [
    "La idea es reducir la cantidad de entradas de la tabla."
   ]
  },
  {
   "cell_type": "markdown",
   "metadata": {},
   "source": [
    "<b>Recordar</b>: Cuando llega un paquete al router, nos fijamos la IP destino, vamos a la tabla, le aplicamos la mascara de cada fila y vemos si matchea con la Network Destination, en caso de hacerlo salimos por esa interface."
   ]
  }
 ],
 "metadata": {
  "kernelspec": {
   "display_name": "Python 3",
   "language": "python",
   "name": "python3"
  },
  "language_info": {
   "codemirror_mode": {
    "name": "ipython",
    "version": 3
   },
   "file_extension": ".py",
   "mimetype": "text/x-python",
   "name": "python",
   "nbconvert_exporter": "python",
   "pygments_lexer": "ipython3",
   "version": "3.7.6"
  }
 },
 "nbformat": 4,
 "nbformat_minor": 4
}
