{
 "cells": [
  {
   "cell_type": "markdown",
   "metadata": {},
   "source": [
    "# Enunciado"
   ]
  },
  {
   "cell_type": "markdown",
   "metadata": {},
   "source": [
    "Considere la siguiente tabla de ruteo:"
   ]
  },
  {
   "cell_type": "markdown",
   "metadata": {},
   "source": [
    "Network Destination|Netmask|Interface de Salida\n",
    "-|-|-\n",
    "155.91.14.0|255.255.255.192|if1\n",
    "157.93.224.0|255.255.224.0|if3\n",
    "157.93.192.0|255.255.224.0|if3\n",
    "157.128.39.64|255.255.255.192|if1\n",
    "157.128.39.128|255.255.255.192|if1\n",
    "157.92.192.0|255.255.240.0|if2\n",
    "157.92.208.0|255.255.240.0|if2\n",
    "157.92.224.0|255.255.240.0|if2\n",
    "157.92.240.0|255.255.240.0|if2\n",
    "157.92.241.0|255.255.240.0|if2\n",
    "157.93.0.0|255.255.255.0|if0\n",
    "157.93.0.1|255.255.255.0|if1"
   ]
  },
  {
   "cell_type": "markdown",
   "metadata": {},
   "source": [
    "Se pide:<br>\n",
    "a. Optimizar las entradas de la tabla.<br>\n",
    "b. Configurar un default gateway, agregando una entrada cuya interfaz de salida sea if2.<br>\n",
    "c. Para la tabla optimizada y con default gateway, determinar la interfaz de salida para la ip de destino:\n",
    " - 157.93.252.12\n",
    " - 159.92.192.8"
   ]
  },
  {
   "cell_type": "markdown",
   "metadata": {},
   "source": [
    "<hr>"
   ]
  },
  {
   "cell_type": "markdown",
   "metadata": {},
   "source": [
    "# Resolucion"
   ]
  },
  {
   "cell_type": "markdown",
   "metadata": {},
   "source": [
    "a)"
   ]
  },
  {
   "cell_type": "markdown",
   "metadata": {},
   "source": [
    "La idea es reducir la cantidad de entradas de la tabla."
   ]
  },
  {
   "cell_type": "markdown",
   "metadata": {},
   "source": [
    "<b>Recordar</b>: Cuando llega un paquete al router, nos fijamos la IP destino, vamos a la tabla, le aplicamos la mascara de cada fila y vemos si matchea con la Network Destination, en caso de hacerlo salimos por esa interface."
   ]
  },
  {
   "cell_type": "markdown",
   "metadata": {},
   "source": [
    "<b>Regla</b>:"
   ]
  },
  {
   "cell_type": "markdown",
   "metadata": {},
   "source": [
    "192.168.0.0/<b>24</b> = 192.168.0000000<b>0</b>.00000000 => <b>if0</b><br>\n",
    "192.168.1.0/<b>24</b> = 192.168.0000000<b>1</b>.00000000 => <b>if0</b><br>\n",
    "\n",
    "Hago <b>Agregacion</b>:<br>\n",
    "192.168.0.0/23 = 192.168.00000000.00000000/<b>23</b> => if0\n",
    "\n",
    "Reglas para poder agrupar:\n",
    "* Misma interface de salida\n",
    "* Mascara de igual longitud\n",
    "* Solo pueden diferir en el ultimo bit"
   ]
  },
  {
   "cell_type": "markdown",
   "metadata": {},
   "source": [
    "<hr>"
   ]
  },
  {
   "cell_type": "markdown",
   "metadata": {},
   "source": [
    "Los ordeno por Interface de Salida"
   ]
  },
  {
   "cell_type": "markdown",
   "metadata": {},
   "source": [
    "Network Destination|Netmask|Interface de Salida\n",
    "-|-|-\n",
    "157.93.0.0|255.255.255.0|if0\n",
    "155.91.14.0|255.255.255.192|if1\n",
    "157.128.39.64|255.255.255.192|if1\n",
    "157.128.39.128|255.255.255.192|if1\n",
    "157.93.0.1|255.255.255.0|if1\n",
    "157.92.192.0|255.255.240.0|if2\n",
    "157.92.208.0|255.255.240.0|if2\n",
    "157.92.224.0|255.255.240.0|if2\n",
    "157.92.240.0|255.255.240.0|if2\n",
    "157.92.241.0|255.255.240.0|if2\n",
    "157.93.224.0|255.255.224.0|if3\n",
    "157.93.192.0|255.255.224.0|if3"
   ]
  },
  {
   "cell_type": "markdown",
   "metadata": {},
   "source": [
    "<b>Analizo if0</b>"
   ]
  },
  {
   "cell_type": "markdown",
   "metadata": {},
   "source": [
    "Veo que tengo un unico de if0, ese no lo voy a poder agrupar con nadie porque es el unico de if0."
   ]
  },
  {
   "cell_type": "markdown",
   "metadata": {},
   "source": [
    "<b>Analizo if1</b>"
   ]
  },
  {
   "cell_type": "markdown",
   "metadata": {},
   "source": [
    "Network Destination|Netmask|Interface de Salida\n",
    "-|-|-\n",
    "155.91.14.0|255.255.255.192|if1\n",
    "157.128.39.64|255.255.255.192|if1\n",
    "157.128.39.128|255.255.255.192|if1\n",
    "157.93.0.1|255.255.255.0|if1"
   ]
  },
  {
   "cell_type": "markdown",
   "metadata": {},
   "source": [
    "Veo que hay 3 con una mascara de una misma longitud, y 1 con con una diferente. El ultimo no lo voy a poder agrupar con nadie, porque es el unico con esa mascara. Me fijo entonces los otros 3. Tenemos:"
   ]
  },
  {
   "cell_type": "markdown",
   "metadata": {},
   "source": [
    "157.128.39.64 = 157.128.39.64.01000000"
   ]
  },
  {
   "cell_type": "markdown",
   "metadata": {},
   "source": [
    "157.128.39.128 = 157.128.39.10000000"
   ]
  },
  {
   "cell_type": "markdown",
   "metadata": {},
   "source": [
    "Vemos que no solo se diferencian en un bit. Por lo tanto no podemos agruparlos."
   ]
  },
  {
   "cell_type": "markdown",
   "metadata": {},
   "source": [
    "<b>Analizo if2</b>"
   ]
  },
  {
   "cell_type": "markdown",
   "metadata": {},
   "source": [
    "Network Destination|Netmask|Interface de Salida\n",
    "-|-|-\n",
    "157.92.192.0|255.255.240.0|if2\n",
    "157.92.208.0|255.255.240.0|if2\n",
    "157.92.224.0|255.255.240.0|if2\n",
    "157.92.240.0|255.255.240.0|if2\n",
    "157.92.241.0|255.255.240.0|if2"
   ]
  },
  {
   "cell_type": "markdown",
   "metadata": {},
   "source": [
    "Vemos que la mascara es la misma en todas las filas."
   ]
  },
  {
   "cell_type": "markdown",
   "metadata": {},
   "source": [
    "Mascara:"
   ]
  },
  {
   "cell_type": "markdown",
   "metadata": {},
   "source": [
    "255.255.240.0 = 255.255.11110000.00000000 es un /20"
   ]
  },
  {
   "cell_type": "markdown",
   "metadata": {},
   "source": [
    "157.092.192.0 = 157.092.11000000.0"
   ]
  },
  {
   "cell_type": "markdown",
   "metadata": {},
   "source": [
    "157.092.208.0 = 157.092.11010000.0"
   ]
  },
  {
   "cell_type": "markdown",
   "metadata": {},
   "source": [
    "157.092.224.0 = 157.092.111<b>0</b>0000.0"
   ]
  },
  {
   "cell_type": "markdown",
   "metadata": {},
   "source": [
    "157.092.240.0 = 157.092.111<b>1</b>0000.0"
   ]
  },
  {
   "cell_type": "markdown",
   "metadata": {},
   "source": [
    "157.092.241.0 = 157.092.11110001.0"
   ]
  },
  {
   "cell_type": "markdown",
   "metadata": {},
   "source": [
    "Observamos que las que se pueden agrupar son, 157.92.224.0 y 157.92.240.0 debido a que se diferencian unicamente en el ultimo bit."
   ]
  },
  {
   "cell_type": "markdown",
   "metadata": {},
   "source": [
    "Asi que esas dos pasan a 157.092.224.0/21"
   ]
  },
  {
   "cell_type": "markdown",
   "metadata": {},
   "source": [
    "Network Destination|Netmask|Interface de Salida\n",
    "-|-|-\n",
    "157.92.192.0|255.255.240.0|if2\n",
    "157.92.208.0|255.255.240.0|if2\n",
    "157.92.224.0|255.255.224.0|if2\n",
    "157.92.241.0|255.255.240.0|if2"
   ]
  },
  {
   "cell_type": "markdown",
   "metadata": {},
   "source": [
    "<b>Analizo if3</b>"
   ]
  },
  {
   "cell_type": "markdown",
   "metadata": {},
   "source": [
    "Network Destination|Netmask|Interface de Salida\n",
    "-|-|-\n",
    "157.93.224.0|255.255.224.0|if3\n",
    "157.93.192.0|255.255.224.0|if3"
   ]
  },
  {
   "cell_type": "markdown",
   "metadata": {},
   "source": [
    "255.255.224.0 = 255.255.11100000.00000000 es un /32-13=/19"
   ]
  },
  {
   "cell_type": "markdown",
   "metadata": {},
   "source": [
    "Vemos que la mascara es la misma, analicemos las ip:"
   ]
  },
  {
   "cell_type": "markdown",
   "metadata": {},
   "source": [
    "157.93.224.0 = 157.93.11<b>1</b>00000.0"
   ]
  },
  {
   "cell_type": "markdown",
   "metadata": {},
   "source": [
    "157.93.192.0 = 157.93.11<b>0</b>00000.0"
   ]
  },
  {
   "cell_type": "markdown",
   "metadata": {},
   "source": [
    "Se diferencian en el ultimo bit, asi que podemos agruparlas. En 157.93.192.0/18"
   ]
  },
  {
   "cell_type": "markdown",
   "metadata": {},
   "source": [
    "Network Destination|Netmask|Interface de Salida\n",
    "-|-|-\n",
    "157.93.192.0|255.255.192.0|if3"
   ]
  },
  {
   "cell_type": "markdown",
   "metadata": {},
   "source": [
    "Rejunto toda la tabla:"
   ]
  },
  {
   "cell_type": "markdown",
   "metadata": {},
   "source": [
    "Network Destination|Netmask|Netmask (/)|Interface de Salida\n",
    "-|-|-|-\n",
    "157.93.0.0|255.255.255.0|24|if0\n",
    "155.91.14.0|255.255.255.192|26|if1\n",
    "157.128.39.64|255.255.255.192|26|if1\n",
    "157.128.39.128|255.255.255.192|26|if1\n",
    "157.93.0.1|255.255.255.0|24|if1\n",
    "157.92.192.0|255.255.240.0|20|if2\n",
    "157.92.208.0|255.255.240.0|20|if2\n",
    "157.92.224.0|255.255.224.0|19|if2\n",
    "157.92.241.0|255.255.240.0|20|if2\n",
    "157.93.192.0|255.255.192.0|18|if3"
   ]
  },
  {
   "cell_type": "markdown",
   "metadata": {},
   "source": [
    "Ordeno la tabla de mayor a menor mascara:"
   ]
  },
  {
   "cell_type": "markdown",
   "metadata": {},
   "source": [
    "Network Destination|Netmask|Netmask (/)|Interface de Salida\n",
    "-|-|-|-\n",
    "155.91.14.0|255.255.255.192|26|if1\n",
    "157.128.39.64|255.255.255.192|26|if1\n",
    "157.128.39.128|255.255.255.192|26|if1\n",
    "157.93.0.0|255.255.255.0|24|if0\n",
    "157.93.0.1|255.255.255.0|24|if1\n",
    "157.92.192.0|255.255.240.0|20|if2\n",
    "157.92.208.0|255.255.240.0|20|if2\n",
    "157.92.241.0|255.255.240.0|20|if2\n",
    "157.92.224.0|255.255.224.0|19|if2\n",
    "157.93.192.0|255.255.192.0|18|if3"
   ]
  },
  {
   "cell_type": "markdown",
   "metadata": {},
   "source": [
    "<hr>"
   ]
  },
  {
   "cell_type": "markdown",
   "metadata": {},
   "source": [
    "b)"
   ]
  },
  {
   "cell_type": "markdown",
   "metadata": {},
   "source": [
    "<b>Default gateway</b>:"
   ]
  },
  {
   "cell_type": "markdown",
   "metadata": {},
   "source": [
    "Network Destination|Netmask|Netmask (/)|Interface de Salida\n",
    "-|-|-|-\n",
    "155.91.14.0|255.255.255.192|26|if1\n",
    "157.128.39.64|255.255.255.192|26|if1\n",
    "157.128.39.128|255.255.255.192|26|if1\n",
    "157.93.0.0|255.255.255.0|24|if0\n",
    "157.93.0.1|255.255.255.0|24|if1\n",
    "157.92.192.0|255.255.240.0|20|if2\n",
    "157.92.208.0|255.255.240.0|20|if2\n",
    "157.92.241.0|255.255.240.0|20|if2\n",
    "157.92.224.0|255.255.224.0|19|if2\n",
    "157.93.192.0|255.255.192.0|18|if3\n",
    "<b>0.0.0.0</b>|<b>0.0.0.0</b>|<b>32</b>|<b>if2</b>"
   ]
  },
  {
   "cell_type": "markdown",
   "metadata": {},
   "source": [
    "La idea es tener una mascara donde haga match siempre y salga por la misma network destination, y por la interface pedida en el enunciado, if2."
   ]
  },
  {
   "cell_type": "markdown",
   "metadata": {},
   "source": [
    "<hr>"
   ]
  },
  {
   "cell_type": "markdown",
   "metadata": {},
   "source": [
    "c)"
   ]
  },
  {
   "cell_type": "markdown",
   "metadata": {},
   "source": [
    "- IP pedida a analizar:"
   ]
  },
  {
   "cell_type": "markdown",
   "metadata": {},
   "source": [
    "<b>157.93.252.12</b>:"
   ]
  },
  {
   "cell_type": "markdown",
   "metadata": {},
   "source": [
    "157.093.11111100.11000000"
   ]
  },
  {
   "cell_type": "markdown",
   "metadata": {},
   "source": [
    "Fila candidata:"
   ]
  },
  {
   "cell_type": "markdown",
   "metadata": {},
   "source": [
    "Network Destination|Netmask|Netmask (/)|Interface de Salida\n",
    "-|-|-|-\n",
    "157.93.192.0|255.255.192.0|18|if3"
   ]
  },
  {
   "cell_type": "markdown",
   "metadata": {},
   "source": [
    "Le aplico la <b>Mascara</b>:"
   ]
  },
  {
   "cell_type": "markdown",
   "metadata": {},
   "source": [
    "157.093.11111100.11000000"
   ]
  },
  {
   "cell_type": "markdown",
   "metadata": {},
   "source": [
    "255.255.11000000.00000000"
   ]
  },
  {
   "cell_type": "markdown",
   "metadata": {},
   "source": [
    "Queda:"
   ]
  },
  {
   "cell_type": "markdown",
   "metadata": {},
   "source": [
    "157.093.11000000.00000000"
   ]
  },
  {
   "cell_type": "markdown",
   "metadata": {},
   "source": [
    "<b>157.93.192.0</b>"
   ]
  },
  {
   "cell_type": "markdown",
   "metadata": {},
   "source": [
    "Matchea con la Network Destination por lo tanto. Sale por la interface <b>if3</b> efectivamente."
   ]
  },
  {
   "cell_type": "markdown",
   "metadata": {},
   "source": [
    "<hr>"
   ]
  },
  {
   "cell_type": "markdown",
   "metadata": {},
   "source": [
    "- IP pedida para analizar:"
   ]
  },
  {
   "cell_type": "markdown",
   "metadata": {},
   "source": [
    "<b>159.92.192.8</b>:"
   ]
  },
  {
   "cell_type": "markdown",
   "metadata": {},
   "source": [
    "No matchea con ninguna que no sea el default gateway, notar que la IP comienza con 159. Por lo tanto esta IP va a salir por el default gateway."
   ]
  }
 ],
 "metadata": {
  "kernelspec": {
   "display_name": "Python 3",
   "language": "python",
   "name": "python3"
  },
  "language_info": {
   "codemirror_mode": {
    "name": "ipython",
    "version": 3
   },
   "file_extension": ".py",
   "mimetype": "text/x-python",
   "name": "python",
   "nbconvert_exporter": "python",
   "pygments_lexer": "ipython3",
   "version": "3.7.6"
  }
 },
 "nbformat": 4,
 "nbformat_minor": 4
}
