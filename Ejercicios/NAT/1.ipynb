{
 "cells": [
  {
   "cell_type": "markdown",
   "metadata": {},
   "source": [
    "# Enunciado"
   ]
  },
  {
   "cell_type": "markdown",
   "metadata": {},
   "source": [
    "Completar las direcciones IP y puertos de los headers de capa 3 y 4 en cada punto del esquema para que le paquete que genera el cliente con una consulta HTTP y el paquete que genera el servidor web con la respuesta HTTP. <b>Justificar</b>"
   ]
  },
  {
   "cell_type": "markdown",
   "metadata": {},
   "source": [
    "<img src=\"../../images/ejercicio_NAT.png\" />"
   ]
  },
  {
   "cell_type": "markdown",
   "metadata": {},
   "source": [
    "-|A|B|C|D|E|F|G|H\n",
    "-|-|-|-|-|-|-|-|-\n",
    "IP|192.168.0.17|192.168.0.1|210.210.210.1|210.210.210.2|199.199.199.1|199.199.199.2|203.203.203.1|203.203.203.5"
   ]
  },
  {
   "cell_type": "markdown",
   "metadata": {},
   "source": [
    "HTTP Request"
   ]
  },
  {
   "cell_type": "markdown",
   "metadata": {},
   "source": [
    "-|IP Origen|IP Destino|Puerto Origen|Puerto Destino|\n",
    "-|-|-|-|-|\n",
    "A|||||\n",
    "B|||||\n",
    "C|||||\n",
    "D|||||\n",
    "E|||||\n",
    "F|||||\n",
    "G|||||\n",
    "H|||||"
   ]
  },
  {
   "cell_type": "markdown",
   "metadata": {},
   "source": [
    "HTTP Response"
   ]
  },
  {
   "cell_type": "markdown",
   "metadata": {},
   "source": [
    "-|IP Origen|IP Destino|Puerto Origen|Puerto Destino|\n",
    "-|-|-|-|-|\n",
    "H|||||\n",
    "G|||||\n",
    "F|||||\n",
    "E|||||\n",
    "D|||||\n",
    "C|||||\n",
    "B|||||\n",
    "A|||||"
   ]
  }
 ],
 "metadata": {
  "kernelspec": {
   "display_name": "Python 3",
   "language": "python",
   "name": "python3"
  },
  "language_info": {
   "codemirror_mode": {
    "name": "ipython",
    "version": 3
   },
   "file_extension": ".py",
   "mimetype": "text/x-python",
   "name": "python",
   "nbconvert_exporter": "python",
   "pygments_lexer": "ipython3",
   "version": "3.7.6"
  }
 },
 "nbformat": 4,
 "nbformat_minor": 4
}
