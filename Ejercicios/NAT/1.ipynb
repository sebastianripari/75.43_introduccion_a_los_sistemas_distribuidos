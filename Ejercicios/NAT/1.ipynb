{
 "cells": [
  {
   "cell_type": "markdown",
   "metadata": {},
   "source": [
    "# Enunciado"
   ]
  },
  {
   "cell_type": "markdown",
   "metadata": {},
   "source": [
    "Completar las direcciones IP y puertos de los headers de capa 3 y 4 en cada punto del esquema para que le paquete que genera el cliente con una consulta HTTP y el paquete que genera el servidor web con la respuesta HTTP. <b>Justificar</b>"
   ]
  },
  {
   "cell_type": "markdown",
   "metadata": {},
   "source": [
    "<img src=\"../../images/ejercicio_NAT.png\" />"
   ]
  },
  {
   "cell_type": "markdown",
   "metadata": {},
   "source": [
    "-|A|B|C|D|E|F|G|H\n",
    "-|-|-|-|-|-|-|-|-\n",
    "IP|192.168.0.17|192.168.0.1|210.210.210.1|210.210.210.2|199.199.199.1|199.199.199.2|203.203.203.1|203.203.203.5"
   ]
  },
  {
   "cell_type": "markdown",
   "metadata": {},
   "source": [
    "<b>HTTP Request</b>"
   ]
  },
  {
   "cell_type": "markdown",
   "metadata": {},
   "source": [
    "-|IP Origen|IP Destino|Puerto Origen|Puerto Destino|\n",
    "-|-|-|-|-|\n",
    "A||||\n",
    "B|||||\n",
    "C|||||\n",
    "D|||||\n",
    "E|||||\n",
    "F|||||\n",
    "G|||||\n",
    "H|||||"
   ]
  },
  {
   "cell_type": "markdown",
   "metadata": {},
   "source": [
    "<b>HTTP Response</b>"
   ]
  },
  {
   "cell_type": "markdown",
   "metadata": {},
   "source": [
    "-|IP Origen|IP Destino|Puerto Origen|Puerto Destino|\n",
    "-|-|-|-|-|\n",
    "H|||||\n",
    "G|||||\n",
    "F|||||\n",
    "E|||||\n",
    "D|||||\n",
    "C|||||\n",
    "B|||||\n",
    "A|||||"
   ]
  },
  {
   "cell_type": "markdown",
   "metadata": {},
   "source": [
    "<hr>"
   ]
  },
  {
   "cell_type": "markdown",
   "metadata": {},
   "source": [
    "# Resolucion"
   ]
  },
  {
   "cell_type": "markdown",
   "metadata": {},
   "source": [
    "<b>HTTP Request</b>"
   ]
  },
  {
   "cell_type": "markdown",
   "metadata": {},
   "source": [
    "-|IP Origen|IP Destino|Puerto Origen|Puerto Destino|\n",
    "-|-|-|-|-|\n",
    "A|192.168.0.17|203.203.203.5|60000|80|\n",
    "B|192.168.0.17|203.203.203.5|60000|80|\n",
    "C|210.210.210.1|203.203.203.5|60001|80|\n",
    "D|210.210.210.1|203.203.203.5|60001|80|\n",
    "E|210.210.210.1|203.203.203.5|60001|80|\n",
    "F|210.210.210.1|203.203.203.5|60001|80|\n",
    "G|210.210.210.1|203.203.203.5|60001|80|\n",
    "H|210.210.210.1|203.203.203.5|60001|80|"
   ]
  },
  {
   "cell_type": "markdown",
   "metadata": {},
   "source": [
    "A)\n",
    "- <b>IP Origen</b> es la de A\n",
    "- <b>IP Destino</b> es la de H.\n",
    "- <b>Puerto Origen</b> es asignado por el sistema operativo, es cualquier que no sea un well-known port, podemos poner 60000.\n",
    "- <b>Puerto Destino</b> como es HTTP es el 80."
   ]
  },
  {
   "cell_type": "markdown",
   "metadata": {},
   "source": [
    "B)"
   ]
  },
  {
   "cell_type": "markdown",
   "metadata": {},
   "source": [
    "- <b>IP Origen</b> es la de A\n",
    "- <b>IP Destino</b> es la de H\n",
    "- <b>Puerto Origen</b> es 60000\n",
    "- <b>Puerto Destino</b> es 80"
   ]
  },
  {
   "cell_type": "markdown",
   "metadata": {},
   "source": [
    "C) D) E) F) G) H)\n",
    "- <b>IP Origen</b> es 210.210.210.1. Ahi es donde NAT entra en juego, a partir de aqui la IP Origen es la publica.\n",
    "- <b>IP Destino</b> es la de H.\n",
    "- <b>Puerto Origen</b> es 60001. Cualquiera que no sea well-khown.\n",
    "- <b>Puerto Destino</b> es 80"
   ]
  }
 ],
 "metadata": {
  "kernelspec": {
   "display_name": "Python 3",
   "language": "python",
   "name": "python3"
  },
  "language_info": {
   "codemirror_mode": {
    "name": "ipython",
    "version": 3
   },
   "file_extension": ".py",
   "mimetype": "text/x-python",
   "name": "python",
   "nbconvert_exporter": "python",
   "pygments_lexer": "ipython3",
   "version": "3.7.6"
  }
 },
 "nbformat": 4,
 "nbformat_minor": 4
}
