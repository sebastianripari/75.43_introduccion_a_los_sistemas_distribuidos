{
 "cells": [
  {
   "cell_type": "markdown",
   "metadata": {},
   "source": [
    "# Enunciado"
   ]
  },
  {
   "cell_type": "markdown",
   "metadata": {},
   "source": [
    "Se quiere calcular el <b>RTT</b> para medir la latencia entre dos host bajo la siguiente configuracion:"
   ]
  },
  {
   "cell_type": "markdown",
   "metadata": {},
   "source": [
    "<img src=\"../../images/ejercicio_latencia.png\" width=\"600px\" />"
   ]
  },
  {
   "cell_type": "markdown",
   "metadata": {},
   "source": [
    "Datos:<br>\n",
    "Packet Size = 1000 bytes"
   ]
  },
  {
   "cell_type": "markdown",
   "metadata": {},
   "source": [
    "-|L1|L2|L3|L4|L5|L6|L7|L8\n",
    "-|-|-|-|-|-|-|-|-\n",
    "<b>Distancia</b>|100m|10km|4km|6km|2km|10km|6km|50m\n",
    "<b>Ancho de Banda</b>|10mbps|200mbps|200mbps|100mbps|100mbps|50mbps|200mbps|10mbps\n",
    "<b>Velocidad de Propagacion (10^5km/s)</b>|1.7|2|2|1.7|2|2|2|1.7"
   ]
  },
  {
   "cell_type": "markdown",
   "metadata": {},
   "source": [
    "1 Mbps = 10^6 bits / s"
   ]
  },
  {
   "cell_type": "markdown",
   "metadata": {},
   "source": [
    "El <b>RTT</b> se debe calcular utilizando un segmento de prueba de tamaño <b>1000 bytes</b>, y sera el mismo para la ida y la vuelta."
   ]
  },
  {
   "cell_type": "markdown",
   "metadata": {},
   "source": [
    "Tener en cuenta la asimetria de caminos siendo:"
   ]
  },
  {
   "cell_type": "markdown",
   "metadata": {},
   "source": [
    "Ruta <b>A → B</b>:<br>\n",
    "L1 → L2 → L5 → L8"
   ]
  },
  {
   "cell_type": "markdown",
   "metadata": {},
   "source": [
    "Ruta <b>B → A</b>:<br>\n",
    "L8 → L7 → L4 → L1"
   ]
  },
  {
   "cell_type": "markdown",
   "metadata": {},
   "source": [
    "Los tiempos de encolado y procesamiento son despreciables."
   ]
  },
  {
   "cell_type": "markdown",
   "metadata": {},
   "source": [
    "Detallar los pasos del cálculo obtenido."
   ]
  },
  {
   "cell_type": "markdown",
   "metadata": {},
   "source": [
    "<hr>"
   ]
  },
  {
   "cell_type": "markdown",
   "metadata": {},
   "source": [
    "# Resolucion"
   ]
  },
  {
   "cell_type": "markdown",
   "metadata": {},
   "source": [
    "\\begin{equation}\n",
    "RTT = Tiempo_{Ida} + Tiempo_{Vuelta}\n",
    "\\end{equation}"
   ]
  },
  {
   "cell_type": "markdown",
   "metadata": {},
   "source": [
    "\\begin{equation}\n",
    "Tiempo = Tiempo_{Propagacion} + Tiempo_{Inserccion}\n",
    "\\end{equation}"
   ]
  },
  {
   "cell_type": "markdown",
   "metadata": {},
   "source": [
    "\\begin{equation}\n",
    "Tiempo_{Propagacion} = \\sum_i{\\frac{Distancia_i}{Velocidad_i}}\n",
    "\\end{equation}"
   ]
  },
  {
   "cell_type": "markdown",
   "metadata": {},
   "source": [
    "\\begin{equation}\n",
    "Tiempo_{Inserccion} = \\sum_i{\\frac{Tamaño_i}{Ancho De Banda_i}}\n",
    "\\end{equation}"
   ]
  },
  {
   "cell_type": "markdown",
   "metadata": {},
   "source": [
    "\\begin{equation}\n",
    "Tiempo_{Propagacion}{L_1} = \\frac{0.1}{1.7} * \\frac{1}{10^5}\n",
    "\\end{equation}"
   ]
  },
  {
   "cell_type": "markdown",
   "metadata": {},
   "source": [
    "\\begin{equation}\n",
    "Tiempo_{Propagacion}{L_2} = \\frac{10}{2} * \\frac{1}{10^5}\n",
    "\\end{equation}"
   ]
  },
  {
   "cell_type": "markdown",
   "metadata": {},
   "source": [
    "\\begin{equation}\n",
    "Tiempo_{Propagacion}{L_5} = \\frac{2}{2} * \\frac{1}{10^5}\n",
    "\\end{equation}"
   ]
  },
  {
   "cell_type": "markdown",
   "metadata": {},
   "source": [
    "\\begin{equation}\n",
    "Tiempo_{Propagacion}{L_8} = \\frac{0.05}{1.7} * \\frac{1}{10^5}\n",
    "\\end{equation}"
   ]
  },
  {
   "cell_type": "markdown",
   "metadata": {},
   "source": [
    "\\begin{equation}\n",
    "Tiempo_{Propagacion}{L_7} = \\frac{6}{2} * \\frac{1}{10^5}\n",
    "\\end{equation}"
   ]
  },
  {
   "cell_type": "markdown",
   "metadata": {},
   "source": [
    "\\begin{equation}\n",
    "Tiempo_{Propagacion}{L_4} = \\frac{6}{1.7} * \\frac{1}{10^5}\n",
    "\\end{equation}"
   ]
  },
  {
   "cell_type": "markdown",
   "metadata": {},
   "source": [
    "\\begin{equation}\n",
    "Tiempo_{Propagacion}{Ida} = (\\frac{0.1}{1.7} + \\frac{10}{2} + \\frac{2}{2} + \\frac{0.05}{1.7} ) * \\frac{1}{10^5} = 6.088 * \\frac{1}{10^5}\n",
    "\\end{equation}"
   ]
  },
  {
   "cell_type": "markdown",
   "metadata": {},
   "source": [
    "\\begin{equation}\n",
    "Tiempo_{Propagacion}{Vuelta} = (\\frac{0.05}{1.7} + \\frac{6}{2} + \\frac{6}{1.7} + \\frac{0.1}{1.7} ) * \\frac{1}{10^5} = 6.617 * \\frac{1}{10^5}\n",
    "\\end{equation}"
   ]
  },
  {
   "cell_type": "markdown",
   "metadata": {},
   "source": [
    "\\begin{equation}\n",
    "Tiempo_{Propagacion} = 6.088 * \\frac{1}{10^5} + 6.617 * \\frac{1}{10^5} = 12.705 * \\frac{1}{10^5}\n",
    "\\end{equation}"
   ]
  },
  {
   "cell_type": "markdown",
   "metadata": {},
   "source": [
    "\\begin{equation}\n",
    "Tiempo_{Inserccion}{L_1} = \\frac{1}{10} * \\frac{1000*8}{10^6}\n",
    "\\end{equation}"
   ]
  },
  {
   "cell_type": "markdown",
   "metadata": {},
   "source": [
    "\\begin{equation}\n",
    "Tiempo_{Inserccion}{L_2} = \\frac{1}{200} * \\frac{1000*8}{10^6}\n",
    "\\end{equation}"
   ]
  },
  {
   "cell_type": "markdown",
   "metadata": {},
   "source": [
    "\\begin{equation}\n",
    "Tiempo_{Inserccion}{L_5} = \\frac{1}{100} * \\frac{1000*8}{10^6}\n",
    "\\end{equation}"
   ]
  },
  {
   "cell_type": "markdown",
   "metadata": {},
   "source": [
    "\\begin{equation}\n",
    "Tiempo_{Inserccion}{L_8} = \\frac{1}{10} * \\frac{1000*8}{10^6}\n",
    "\\end{equation}"
   ]
  },
  {
   "cell_type": "markdown",
   "metadata": {},
   "source": [
    "\\begin{equation}\n",
    "Tiempo_{Inserccion}{L_7} = \\frac{1}{200} * \\frac{1000*8}{10^6}\n",
    "\\end{equation}"
   ]
  },
  {
   "cell_type": "markdown",
   "metadata": {},
   "source": [
    "\\begin{equation}\n",
    "Tiempo_{Inserccion}{L_4} = \\frac{1}{100} * \\frac{1000*8}{10^6}\n",
    "\\end{equation}"
   ]
  },
  {
   "cell_type": "markdown",
   "metadata": {},
   "source": [
    "\\begin{equation}\n",
    "Tiempo_{Inserccion}{Ida} = (\\frac{1}{10}+\\frac{1}{200}+\\frac{1}{100}+\\frac{1}{10}) * \\frac{1000*8}{10^6}\n",
    "\\end{equation}"
   ]
  },
  {
   "cell_type": "markdown",
   "metadata": {},
   "source": [
    "\\begin{equation}\n",
    "Tiempo_{Inserccion}{Vuelta} = (\\frac{1}{10}+\\frac{1}{200}+\\frac{1}{100}+\\frac{1}{10}) * \\frac{1000*8}{10^6}\n",
    "\\end{equation}"
   ]
  },
  {
   "cell_type": "markdown",
   "metadata": {},
   "source": [
    "\\begin{equation}\n",
    "Tiempo_{Inserccion} = 2* (\\frac{1}{10}+\\frac{1}{200}+\\frac{1}{100}+\\frac{1}{10}) * \\frac{1000*8}{10^6}\n",
    "\\end{equation}"
   ]
  },
  {
   "cell_type": "markdown",
   "metadata": {},
   "source": [
    "\\begin{equation}\n",
    "Tiempo_{Inserccion} = 2* 0.215 * \\frac{1000*8}{10^6}=0.43* \\frac{1000*8}{10^6}\n",
    "\\end{equation}"
   ]
  },
  {
   "cell_type": "markdown",
   "metadata": {},
   "source": [
    "\\begin{equation}\n",
    "Tiempo = 12.705 * \\frac{1}{10^5}+ 0.43* \\frac{1000*8}{10^6}=0.00356705\n",
    "\\end{equation}"
   ]
  },
  {
   "cell_type": "markdown",
   "metadata": {},
   "source": [
    "0.00356705 segundos = 0.00356705 * 1000 milisegundos"
   ]
  },
  {
   "cell_type": "markdown",
   "metadata": {},
   "source": [
    "<b>3.56 milisegundos</b>"
   ]
  }
 ],
 "metadata": {
  "kernelspec": {
   "display_name": "Python 3",
   "language": "python",
   "name": "python3"
  },
  "language_info": {
   "codemirror_mode": {
    "name": "ipython",
    "version": 3
   },
   "file_extension": ".py",
   "mimetype": "text/x-python",
   "name": "python",
   "nbconvert_exporter": "python",
   "pygments_lexer": "ipython3",
   "version": "3.7.6"
  }
 },
 "nbformat": 4,
 "nbformat_minor": 4
}
