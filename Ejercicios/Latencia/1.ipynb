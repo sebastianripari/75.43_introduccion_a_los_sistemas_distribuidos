{
 "cells": [
  {
   "cell_type": "markdown",
   "metadata": {},
   "source": [
    "# Latencia"
   ]
  },
  {
   "cell_type": "markdown",
   "metadata": {},
   "source": [
    "Se quiere calcular el <b>RTT</b> para medir la latencia entre dos host bajo la siguiente configuracion:"
   ]
  },
  {
   "cell_type": "markdown",
   "metadata": {},
   "source": [
    "<img src=\"../../images/ejercicio_latencia.png\" width=\"600px\" />"
   ]
  },
  {
   "cell_type": "markdown",
   "metadata": {},
   "source": [
    "Datos:<br>\n",
    "Packet Size = 1000 bytes"
   ]
  },
  {
   "cell_type": "markdown",
   "metadata": {},
   "source": [
    "-|L1|L2|L3|L4|L5|L6|L7|L8\n",
    "-|-|-|-|-|-|-|-|-\n",
    "<b>Distancia</b>|100m|10km|4km|6km|2km|10km|6km|50m\n",
    "<b>Ancho de Banda</b>|10mbps|200mbps|200mbps|100mbps|100mbps|50mbps|200mbps|10mbps\n",
    "<b>Velocidad de Propagacion (10^5km/s)</b>|1.7|2|2|1.7|2|2|2|1.7"
   ]
  },
  {
   "cell_type": "markdown",
   "metadata": {},
   "source": [
    "1 Mbps = 10^6 bits / s"
   ]
  },
  {
   "cell_type": "markdown",
   "metadata": {},
   "source": [
    "El <b>RTT</b> se debe calcular utilizando un segmento de prueba de tamaño <b>1000 bytes</b>, y sera el mismo para la ida y la vuelta."
   ]
  },
  {
   "cell_type": "markdown",
   "metadata": {},
   "source": [
    "Tener en cuenta la asimetria de caminos siendo:"
   ]
  },
  {
   "cell_type": "markdown",
   "metadata": {},
   "source": [
    "Ruta <b>A → B</b>:<br>\n",
    "L1 → L2 → L5 → L8"
   ]
  },
  {
   "cell_type": "markdown",
   "metadata": {},
   "source": [
    "Ruta <b>B → A</b>:<br>\n",
    "L8 → L7 → L4 → L1"
   ]
  },
  {
   "cell_type": "markdown",
   "metadata": {},
   "source": [
    "Los tiempos de encolado y procesamiento son despreciables."
   ]
  },
  {
   "cell_type": "markdown",
   "metadata": {},
   "source": [
    "Detallar los pasos del cálculo obtenido."
   ]
  }
 ],
 "metadata": {
  "kernelspec": {
   "display_name": "Python 3",
   "language": "python",
   "name": "python3"
  },
  "language_info": {
   "codemirror_mode": {
    "name": "ipython",
    "version": 3
   },
   "file_extension": ".py",
   "mimetype": "text/x-python",
   "name": "python",
   "nbconvert_exporter": "python",
   "pygments_lexer": "ipython3",
   "version": "3.7.6"
  }
 },
 "nbformat": 4,
 "nbformat_minor": 4
}
