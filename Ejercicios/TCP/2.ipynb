{
 "cells": [
  {
   "cell_type": "markdown",
   "metadata": {},
   "source": [
    "# Enunciado"
   ]
  },
  {
   "cell_type": "markdown",
   "metadata": {},
   "source": [
    "Dada una conexion TCP recien establecida (se asume ya fue realizado el handshake) entre dos host para la cual el <b>RTT</b> es de 250ms el <b>MSS</b> es de 1KB. Se desean transmitir 20KB de archivo."
   ]
  },
  {
   "cell_type": "markdown",
   "metadata": {},
   "source": [
    "La red por la cual estan conectados esta congestionada, de forma tal que al enviarse rafagas de 7 o mas paquetes, se pierden todos los paquetes de la rafaga enviados por el cliente."
   ]
  },
  {
   "cell_type": "markdown",
   "metadata": {},
   "source": [
    "Otros datos:\n",
    "<b>IW</b>: 1KB<br>\n",
    "<b>LW (Loss Window)</b>: 1KB<br>\n",
    "<b>SSTH</b>: 32KB<br>\n",
    "<b>RWND</b>: 10KB<br>\n",
    "<b>Timeout</b> equivale a 2RTT"
   ]
  },
  {
   "cell_type": "markdown",
   "metadata": {},
   "source": [
    "a) Calcular el tiempo que se tardara en enviar la totalidad de lo que se desea transmitir. Justificar mediante un seguimiento adecuado (grafico, tabla o algun tipo de explicacion paso a paso de cada ronda que se realiza)"
   ]
  },
  {
   "cell_type": "markdown",
   "metadata": {},
   "source": [
    "b) ¿Que sucederia en caso de que, cuando se produce la perdida, lo que se pierde son los paquetes que responde el servidor en lugar de los enviados por el cliente?"
   ]
  },
  {
   "cell_type": "markdown",
   "metadata": {},
   "source": [
    "<hr>"
   ]
  },
  {
   "cell_type": "markdown",
   "metadata": {},
   "source": [
    "# Resolucion"
   ]
  },
  {
   "cell_type": "markdown",
   "metadata": {},
   "source": [
    "a)"
   ]
  },
  {
   "cell_type": "markdown",
   "metadata": {},
   "source": [
    "La unidad usada en la tabla es <b>KB</b>"
   ]
  },
  {
   "cell_type": "markdown",
   "metadata": {},
   "source": [
    "RTT|CWND|RWND|FlightSize|Recv|SSTH|Comments\n",
    "-|-|-|-|-|-|-\n",
    "1|1|10|1|1|32|<b>Slow Start</b> => <b>CWND = IW</b>\n",
    "2|2|10|2|3|32|La ventana se duplica => <b>CWND = IW * 2</b>\n",
    "3|4|10|4|7|32|La ventana se duplica => <b>CWND = IW * 2 * 2</b>\n",
    "4|<b>8</b>|10|8|7|32|La ventana se duplica => <b>CWND = IW * 2 * 2 * 2</b><br>Pero no llega ningun byte debido a que se enviaron mas de 7KB. Asi que no habra respuesta. Se llegara a un timeout.\n",
    "5|-|-|-|-|-|Aqui vence el timeout de los 2 RTT. (5 y 6)\n",
    "6|<b>1</b>|10|1|8|<b>4</b>|El nuevo <b>SSTH es la ultima CWND / 2</b><br>Y el nuevo <b>CWND = LW</b>\n",
    "7|2|10|2|10|4|La ventana se duplica => <b>CWND = LW * 2</b>\n",
    "8|<b>4</b>|10|4|14|<b>4</b>|La ventana se duplica => <b>CWND = LW * 2 * 2</b><br> Como llegue al valor del SSTH estamos en <b>Congestion Avoidance</b>\n",
    "9|5|10|5|19|4|-\n",
    "10|6|10|1|<b>20</b>|4|Logre mandar los <b>20KB</b> asi que termina la transaccion. De FlightSize va 1KB porque es lo que necesitaba enviar para terminar de mandar el archivo."
   ]
  },
  {
   "cell_type": "markdown",
   "metadata": {},
   "source": [
    "Respuesta: 10 RTT = 10 * 250ms = 2500ms"
   ]
  },
  {
   "cell_type": "markdown",
   "metadata": {},
   "source": [
    "b)"
   ]
  },
  {
   "cell_type": "markdown",
   "metadata": {},
   "source": [
    "La unidad usada en la tabla es <b>KB</b>"
   ]
  },
  {
   "cell_type": "markdown",
   "metadata": {},
   "source": [
    "RTT|CWND|RWND|FlightSize|Recv|SSTH|Comments\n",
    "-|-|-|-|-|-|-\n",
    "1|1|10|1|1|32|<b>Slow Start</b> => <b>FlightSize = IW</b>\n",
    "2|2|10|2|3|32|La ventana se duplica => <b>CWND = IW * 2</b>\n",
    "3|4|10|4|7|32|La ventana se duplica => <b>CWND = IW * 2 * 2</b>\n",
    "4|8|10|8|15|32|\n",
    "5|-|-|-|-|-|Aqui se vence el timeout de los 2 RTT, ya que no llegan los ACK\n",
    "6|<b>1</b>|10|1|<b>15</b>|4| <b>CWND = LW</b>. Cliente manda devuelta paquetes que el server ya tiene por eso no aumentamos el Recv. El cliente manda el 8 y el server responde que tiene hasta el 15\n",
    "7|2|10|2|17|4|La ventana se duplica => <b>CWND = LW * 2</b>\n",
    "8|4|10|3|<b>20</b>|4|La ventana se duplica => <b>CWND = LW * 2</b>.<br> Pero solo se envian 3, FlightSize=3, que es lo restante para llegar a los 20"
   ]
  },
  {
   "cell_type": "markdown",
   "metadata": {},
   "source": [
    "Respuesta: 7 RTT = 7 * 250ms = 1750ms"
   ]
  }
 ],
 "metadata": {
  "kernelspec": {
   "display_name": "Python 3",
   "language": "python",
   "name": "python3"
  },
  "language_info": {
   "codemirror_mode": {
    "name": "ipython",
    "version": 3
   },
   "file_extension": ".py",
   "mimetype": "text/x-python",
   "name": "python",
   "nbconvert_exporter": "python",
   "pygments_lexer": "ipython3",
   "version": "3.7.6"
  }
 },
 "nbformat": 4,
 "nbformat_minor": 4
}
