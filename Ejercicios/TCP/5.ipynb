{
 "cells": [
  {
   "cell_type": "markdown",
   "metadata": {},
   "source": [
    "# Enunciado"
   ]
  },
  {
   "cell_type": "markdown",
   "metadata": {},
   "source": [
    "Responder Verdadero o Falso. Justificar la respuesta."
   ]
  },
  {
   "cell_type": "markdown",
   "metadata": {},
   "source": [
    "1. TCP implementa el pipeline con el protocolo Go-Back-N\n",
    "2. TCP implementa el pipeline con protocolo Selective Repeat\n",
    "3. TCP es full duplex"
   ]
  },
  {
   "cell_type": "markdown",
   "metadata": {},
   "source": [
    "<hr>"
   ]
  },
  {
   "cell_type": "markdown",
   "metadata": {},
   "source": [
    "# Resolucion "
   ]
  },
  {
   "cell_type": "markdown",
   "metadata": {},
   "source": [
    "### Cumulative ACK"
   ]
  },
  {
   "cell_type": "markdown",
   "metadata": {},
   "source": [
    "Los <b>ACK acumulativos</b> son los que continen un numero <b>n</b> que indica hasta que byte fue recibido correctamente. Y que espera recibir el paquete siguiente. Tienen la ventaja de que indican hasta que paquete fue recibido en orden y correctamente."
   ]
  },
  {
   "cell_type": "markdown",
   "metadata": {},
   "source": [
    "### Selective ACK"
   ]
  },
  {
   "cell_type": "markdown",
   "metadata": {},
   "source": [
    "Los <b>ACK Selectivos</b> son cuando se mandan ACK por cada paquete recibido. Sin enviar un numero de secuencia, e indicando unicamente que se recibio correctamente el paquete enviado, sin importar el resto."
   ]
  },
  {
   "cell_type": "markdown",
   "metadata": {},
   "source": [
    "### Go-Back-N (GBN)"
   ]
  },
  {
   "cell_type": "markdown",
   "metadata": {},
   "source": [
    "Es un protocolo que funciona con ACK acumulativos, el cual manda rafagas de <b>N</b> paquetes. Y en base a los ACK hace las retransmiciones. Como los ACK tienen un numero de secuencia conoce hasta que paquete fue recibido correctamente, si el que recibe, no recibe el paquete 2 y si el 3, por dar un ejemplo, entonces dropea el paquete 3 ya que busca recibirlos en orden, y indica mediante el ACK que quiere que le envien devuelta el paquete 2. "
   ]
  },
  {
   "cell_type": "markdown",
   "metadata": {},
   "source": [
    "### Selective Repeat"
   ]
  },
  {
   "cell_type": "markdown",
   "metadata": {},
   "source": [
    "Es un protocolo que funciona con ACK selectivos, el cual manda una rafaba de <b>N</b> paquetes. Y el que recibe manda un ACK por cada paquete informando unicamente que recibio bien ese paquete, pero no dice nada del resto. Si algun paquete no llega, al no enviarse el ACK, el cliente recibira un timeout y hara la retransmicion de ese unico paquete. La ventaja de este protocolo es que solo transmite lo que fallo"
   ]
  },
  {
   "cell_type": "markdown",
   "metadata": {},
   "source": [
    "### TCP: Es un conbinacion/hibrido entre GBN y Selective Repeat"
   ]
  },
  {
   "cell_type": "markdown",
   "metadata": {},
   "source": [
    "TCP de GBN lo unico que toma es que manda el ACK del siguiente paquete que necesita, el resto es SR."
   ]
  },
  {
   "cell_type": "markdown",
   "metadata": {},
   "source": [
    "<hr>"
   ]
  },
  {
   "cell_type": "markdown",
   "metadata": {},
   "source": [
    "### Full Duplex"
   ]
  },
  {
   "cell_type": "markdown",
   "metadata": {},
   "source": [
    "Es <b>verdadera</b>. Significa que cada conexion soporta enviar y recibir al mismo tiempo."
   ]
  },
  {
   "cell_type": "markdown",
   "metadata": {},
   "source": [
    "<hr>"
   ]
  }
 ],
 "metadata": {
  "kernelspec": {
   "display_name": "Python 3",
   "language": "python",
   "name": "python3"
  },
  "language_info": {
   "codemirror_mode": {
    "name": "ipython",
    "version": 3
   },
   "file_extension": ".py",
   "mimetype": "text/x-python",
   "name": "python",
   "nbconvert_exporter": "python",
   "pygments_lexer": "ipython3",
   "version": "3.7.6"
  }
 },
 "nbformat": 4,
 "nbformat_minor": 4
}
