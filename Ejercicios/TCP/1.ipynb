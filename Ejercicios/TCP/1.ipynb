{
 "cells": [
  {
   "cell_type": "markdown",
   "metadata": {},
   "source": [
    "# Enunciado"
   ]
  },
  {
   "cell_type": "markdown",
   "metadata": {},
   "source": [
    "Considere el efecto de usar <b>Slow Start</b> en una conexion TCP recien establecida (<b>IW</b> = 2 * MSS, <b>SSTHRESH</b> = 64KB), que tiene un RTT de 10 ms y sin congestion ni errores presentes en la red. La <b>RWND</b> es de 24KB y el <b>MSS</b> es de 2KB."
   ]
  },
  {
   "cell_type": "markdown",
   "metadata": {},
   "source": [
    "Cuanto tiempo transcurre antes de que pueda ser enviada la primera ventana de recepcion llena? (Asumir que el tx de una ventana es una componente despreciable del Delay total de la conexion)"
   ]
  },
  {
   "cell_type": "markdown",
   "metadata": {},
   "source": [
    "<hr>"
   ]
  },
  {
   "cell_type": "markdown",
   "metadata": {},
   "source": [
    "# Resolucion"
   ]
  },
  {
   "cell_type": "markdown",
   "metadata": {},
   "source": [
    "<b>Datos</b>:<br>\n",
    "<b>MSS</b>=2KB<br>\n",
    "<b>Slow Start</b><br>\n",
    "<b>IW</b>=2MSS<br>\n",
    "<b>SSTH</b>=32MSS<br>\n",
    "<b>RWND</b>=12MSS<br>"
   ]
  },
  {
   "cell_type": "markdown",
   "metadata": {},
   "source": [
    "RTT|CWND|RWND|FlightSize|SSTH|Comments\n",
    "-|-|-|-|-|-\n",
    "1|2|12|2|32|<b>Slow Start</b> => <b>CWND = IW</b>\n",
    "2|4|12|4|32|Se duplica la ventana => <b>CWND = IW * 2</b>\n",
    "3|8|12|8|32|Se duplica la ventana => <b>CWND = IW * 2 * 2</b>\n",
    "<b>4</b>|16|12|12|32|Se duplica la ventana => <b>CWND = IW * 2 * 2</b><br>Se deberia enviar el doble de lo anterior, pero llegamos al limite de la Receiver Window, se calcula el MINIMO entre Receiver Window y Congestion Window => <b>FlightSize = MIN(IW * 2 * 2 * 2, RWND)</b>"
   ]
  },
  {
   "cell_type": "markdown",
   "metadata": {},
   "source": [
    "Hasta que se envia la primera ventana de recepcion llena, transcurren 4 RTT. En tiempo esto es, 4*10ms = 40ms."
   ]
  },
  {
   "cell_type": "markdown",
   "metadata": {},
   "source": [
    "Respuesta final: 40ms"
   ]
  },
  {
   "cell_type": "markdown",
   "metadata": {},
   "source": [
    "### Recordar"
   ]
  },
  {
   "cell_type": "markdown",
   "metadata": {},
   "source": [
    "<b>CWND</b>: Congestion Window<br>\n",
    "<b>RWND</b>: Receiver Window<br>\n",
    "<b>IW</b>: Initial Window<br>\n",
    "<b>Slow Start</b>: Se comienza enviando la Initial Window, y se duplica en cada iteracion."
   ]
  }
 ],
 "metadata": {
  "kernelspec": {
   "display_name": "Python 3",
   "language": "python",
   "name": "python3"
  },
  "language_info": {
   "codemirror_mode": {
    "name": "ipython",
    "version": 3
   },
   "file_extension": ".py",
   "mimetype": "text/x-python",
   "name": "python",
   "nbconvert_exporter": "python",
   "pygments_lexer": "ipython3",
   "version": "3.7.6"
  }
 },
 "nbformat": 4,
 "nbformat_minor": 4
}
