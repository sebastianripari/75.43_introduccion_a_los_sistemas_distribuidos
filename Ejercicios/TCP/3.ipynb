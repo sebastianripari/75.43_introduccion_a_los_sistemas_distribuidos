{
 "cells": [
  {
   "cell_type": "markdown",
   "metadata": {},
   "source": [
    "# Enunciado"
   ]
  },
  {
   "cell_type": "markdown",
   "metadata": {},
   "source": [
    "Por medio de una conexión TCP se transfiere desde un host A a un host B un archivo de 27326 B. De acuerdo con las tecnologías de enlace que utiliza el host A, <b>MSS=1500B</b>. Además, sabemos que su sistema operativo opera con <b>TCP Tahoe</b>, con una <b>IW=2MSS</b>. El sistema utiliza <b>ssthresh=4MSS</b> y el <b>rwnd=16MSS</b>. Sabemos que la conexión sufrirá la pérdida del séptimo segmento de datos transmitido."
   ]
  },
  {
   "cell_type": "markdown",
   "metadata": {},
   "source": [
    "Completar la tabla como justificación para responder las siguientes preguntas:"
   ]
  },
  {
   "cell_type": "markdown",
   "metadata": {},
   "source": [
    "a. ¿Cuál es el valor de cwnd(n) antes de finalizar la transmisión? Es decir, el valor de la ventana de congestión durante la última ráfaga de segmentos transmitidos."
   ]
  },
  {
   "cell_type": "markdown",
   "metadata": {},
   "source": [
    "b. ¿El algoritmo entra en la etapa de <b>Fast Retransmit</b>? ¿Y <b>Fast Recovery</b>? En caso de entrar en <b>Fast Retransmit</b>, ¿cuál es el número del último segmento enviado antes de realizarlo?"
   ]
  },
  {
   "cell_type": "markdown",
   "metadata": {},
   "source": [
    "<hr>"
   ]
  },
  {
   "cell_type": "markdown",
   "metadata": {},
   "source": [
    "# Resolucion"
   ]
  },
  {
   "cell_type": "markdown",
   "metadata": {},
   "source": [
    "<b>Datos</b>:<br>\n",
    "<b>Archivo</b>=27326B<br>\n",
    "<b>MSS</b>=1500B<br>\n",
    "<b>IW</b>=2MSS<br>\n",
    "<b>SSTH</b>=4MSS<br>\n",
    "<b>RWND</b>=16MSS<br>\n",
    "<b>S.O TCP Tahoe<br>"
   ]
  },
  {
   "cell_type": "markdown",
   "metadata": {},
   "source": [
    "RTT|CWND|RWND|FlightSize|Recv MSS|SSTH|Comments\n",
    "-|-|-|-|-|-|-\n",
    "1|2|16|2|2|4|Slow Start => <b>CWND = IW</b>\n",
    "2|4|16|4|6|4|Estamos en Slow Start => <b>CWND = 2 * IW</b>\n",
    "3|5|16|5|10|4|CWND igual a SSTH => Congestion Avoidance<br>cwnd(n+1) = cwnd(n) + #(ACK)/cwnd(n)<br>cwnd(n+1) = piso(4 + 4/4)=5<br>Recibo 4 ACK duplicados, debido a que se pierde el primer paquete de la rafaga.\n",
    "4|1|16|1|11|2|Hago Fast Retransmit que es CWND=1<br>SSTH=CWND(n-1)/2\n",
    "5|2|16|2|13|2|-\n",
    "6|3|16|3|16|2|cwnd(n+1) = 2 + 2/2=3\n",
    "7|4|16|3|19|2|cwnd(n+1) = 3 + 3/3=4<br>Termine de enviar el archivo."
   ]
  },
  {
   "cell_type": "markdown",
   "metadata": {},
   "source": [
    "a)"
   ]
  },
  {
   "cell_type": "markdown",
   "metadata": {},
   "source": [
    "4MSS"
   ]
  },
  {
   "cell_type": "markdown",
   "metadata": {},
   "source": [
    "b)"
   ]
  },
  {
   "cell_type": "markdown",
   "metadata": {},
   "source": [
    "Si el algoritmo entra en <b>Fast Restransmit</b> luego de tener 3 ACK duplicados. En el RTT numero 3."
   ]
  },
  {
   "cell_type": "markdown",
   "metadata": {},
   "source": [
    "No, el algoritmo no entra en <b>Fast Recovery</b>"
   ]
  },
  {
   "cell_type": "markdown",
   "metadata": {},
   "source": [
    "El numero de secuencia del ultimo segmento enviado es 10. Y recibido 6."
   ]
  }
 ],
 "metadata": {
  "kernelspec": {
   "display_name": "Python 3",
   "language": "python",
   "name": "python3"
  },
  "language_info": {
   "codemirror_mode": {
    "name": "ipython",
    "version": 3
   },
   "file_extension": ".py",
   "mimetype": "text/x-python",
   "name": "python",
   "nbconvert_exporter": "python",
   "pygments_lexer": "ipython3",
   "version": "3.7.6"
  }
 },
 "nbformat": 4,
 "nbformat_minor": 4
}
