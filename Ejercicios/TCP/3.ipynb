{
 "cells": [
  {
   "cell_type": "markdown",
   "metadata": {},
   "source": [
    "# Enunciado"
   ]
  },
  {
   "cell_type": "markdown",
   "metadata": {},
   "source": [
    "Por medio de una conexión TCP se transfiere desde un host A a un host B un archivo de 27326 B. De acuerdo con las tecnologías de enlace que utiliza el host A, <b>MSS=1500B</b>. Además, sabemos que su sistema operativo opera con <b>TCP Tahoe</b>, con una <b>IW=2MSS</b>. El sistema utiliza <b>ssthresh=4MSS</b> y el <b>rwnd=16MSS</b>. Sabemos que la conexión sufrirá la pérdida del séptimo segmento de datos transmitido."
   ]
  },
  {
   "cell_type": "markdown",
   "metadata": {},
   "source": [
    "Completar la tabla como justificación para responder las siguientes preguntas:"
   ]
  },
  {
   "cell_type": "markdown",
   "metadata": {},
   "source": [
    "a. ¿Cuál es el valor de cwnd(n) antes de finalizar la transmisión? Es decir, el valor de la ventana de congestión durante la última ráfaga de segmentos transmitidos."
   ]
  },
  {
   "cell_type": "markdown",
   "metadata": {},
   "source": [
    "b. ¿El algoritmo entra en la etapa de Fast Retransmit? ¿Y Fast Recovery? En caso de entrar en Fast Retransmit, ¿cuál es el número del último segmento enviado antes de realizarlo?"
   ]
  },
  {
   "cell_type": "markdown",
   "metadata": {},
   "source": [
    "<hr>"
   ]
  },
  {
   "cell_type": "markdown",
   "metadata": {},
   "source": [
    "# Resolucion"
   ]
  },
  {
   "cell_type": "markdown",
   "metadata": {},
   "source": []
  }
 ],
 "metadata": {
  "kernelspec": {
   "display_name": "Python 3",
   "language": "python",
   "name": "python3"
  },
  "language_info": {
   "codemirror_mode": {
    "name": "ipython",
    "version": 3
   },
   "file_extension": ".py",
   "mimetype": "text/x-python",
   "name": "python",
   "nbconvert_exporter": "python",
   "pygments_lexer": "ipython3",
   "version": "3.7.6"
  }
 },
 "nbformat": 4,
 "nbformat_minor": 4
}
