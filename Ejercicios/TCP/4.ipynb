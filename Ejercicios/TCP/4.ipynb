{
 "cells": [
  {
   "cell_type": "markdown",
   "metadata": {},
   "source": [
    "# Enunciado"
   ]
  },
  {
   "cell_type": "markdown",
   "metadata": {},
   "source": [
    "Por medio de una conexión TCP se transfiere desde un host A a un host B un archivo de 27326 B. De acuerdo con las tecnologías de enlace que utiliza el host A, MSS=1500B. Además, sabemos que su sistema operativo opera con TCP Reno, con una IW=2MSS. El sistema utiliza ssthresh=4MSS y el rwnd=16MSS. Sabemos que la conexión sufrirá la pérdida del séptimo segmento de datos transmitido. \n",
    "Completar la tabla como justificación para responder las siguientes preguntas:\n",
    "\n",
    "a)¿Cuál es el valor de cwnd(n) antes de finalizar la transmisión? Es decir, el valor de la ventana de congestión durante la última ráfaga de segmentos transmitidos.\n",
    "\n",
    "b)¿El algoritmo entra en la etapa de Fast Retransmit? ¿Y Fast Recovery? En caso de entrar en Fast Retransmit, ¿cuál es el número del último segmento enviado antes de realizarlo?"
   ]
  },
  {
   "cell_type": "markdown",
   "metadata": {},
   "source": [
    "<hr>"
   ]
  },
  {
   "cell_type": "markdown",
   "metadata": {},
   "source": [
    "# Resolucion"
   ]
  },
  {
   "cell_type": "markdown",
   "metadata": {},
   "source": [
    "<b>Datos</b>:<br>\n",
    "<b>Archivo</b>=27326B<br>\n",
    "<b>MSS</b>=1500B<br>\n",
    "<b>IW</b>=2MSS<br>\n",
    "<b>SSTH</b>=4MSS<br>\n",
    "<b>RWND</b>=16MSS<br>\n",
    "<b>S.O TCP Reno<br>"
   ]
  },
  {
   "cell_type": "markdown",
   "metadata": {},
   "source": [
    "RTT|CWND|RWND|FlightSize|Recv MSS|SSTH|Comments\n",
    "-|-|-|-|-|-|-\n",
    "1|2|16|2|2|4|Slow Start\n",
    "2|4|16|4|6|4|Estamos en Slow Start => <b>CWND = 2 * IW</b>\n",
    "3|5|16|5|10|4|CWND igual a SSTH => Congestion Avoidance<br>cwnd(n+1) = cwnd(n) + #(ACK)/cwnd(n)<br>Recibo 4 ACK duplicados, debido a que se pierde el primer paquete de la rafaga.\n",
    "4|2|16|2|12|2|TCP Reno => cwnd(n+1) = cwnd(n) / 2<br>cwnd(n+1) = 5 / 2 = 2<br>sshtresh = 5 / 2\n",
    "5|3|16|3|15|2|Entramos en <b>Fast Recovery</b>. Osea que estamos en <b>Congestion Avoidance</b>=><br>cwnd(n+1) = cwnd(n) + #(ACK)/cwnd(n)\n",
    "6|4|16|4|19|2|Fin de la transmicion"
   ]
  },
  {
   "cell_type": "markdown",
   "metadata": {},
   "source": [
    "a)4"
   ]
  },
  {
   "cell_type": "markdown",
   "metadata": {},
   "source": [
    "b)"
   ]
  },
  {
   "cell_type": "code",
   "execution_count": null,
   "metadata": {},
   "outputs": [],
   "source": []
  }
 ],
 "metadata": {
  "kernelspec": {
   "display_name": "Python 3",
   "language": "python",
   "name": "python3"
  },
  "language_info": {
   "codemirror_mode": {
    "name": "ipython",
    "version": 3
   },
   "file_extension": ".py",
   "mimetype": "text/x-python",
   "name": "python",
   "nbconvert_exporter": "python",
   "pygments_lexer": "ipython3",
   "version": "3.7.6"
  }
 },
 "nbformat": 4,
 "nbformat_minor": 4
}
