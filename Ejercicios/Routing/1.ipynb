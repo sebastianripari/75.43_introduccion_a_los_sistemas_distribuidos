{
 "cells": [
  {
   "cell_type": "markdown",
   "metadata": {},
   "source": [
    "# Enunciado"
   ]
  },
  {
   "cell_type": "markdown",
   "metadata": {},
   "source": [
    "Dada una <b>tabla de ruteo</b>, se busca <b>optimizar</b> la configuración de las entradas. Explicar y dar un ejemplo de los siguientes casos:"
   ]
  },
  {
   "cell_type": "markdown",
   "metadata": {},
   "source": [
    "a) La tabla de ruteo contiene 3 entradas que se pueden agregar en una única\n",
    "entrada."
   ]
  },
  {
   "cell_type": "markdown",
   "metadata": {},
   "source": [
    "b) La tabla de ruteo contiene una entrada ya contenida en otra entrada."
   ]
  },
  {
   "cell_type": "markdown",
   "metadata": {},
   "source": [
    "c) La tabla de ruteo contiene una entrada mal configurada, donde el prefijo es\n",
    "más específico de lo que la máscara permite."
   ]
  },
  {
   "cell_type": "markdown",
   "metadata": {},
   "source": [
    "Pregunta. Si tenemos el siguiente prefijo: 172.128.6.0/x.\n",
    "¿Cuál es el mínimo valor que puede tomar x?. Justificar."
   ]
  },
  {
   "cell_type": "markdown",
   "metadata": {},
   "source": [
    "<hr>"
   ]
  },
  {
   "cell_type": "markdown",
   "metadata": {},
   "source": [
    "# Resolucion"
   ]
  },
  {
   "cell_type": "markdown",
   "metadata": {},
   "source": [
    "a)"
   ]
  },
  {
   "cell_type": "markdown",
   "metadata": {},
   "source": [
    "Doy dos <b>Prefix/Mask</b> respetando que la mascara tenga la misma longitud y que el prefijo difiera en el ultimo bit."
   ]
  },
  {
   "cell_type": "markdown",
   "metadata": {},
   "source": [
    "- 192.168.<b>0</b>.0/<b>24</b><br>\n",
    "- 192.168.<b>1</b>.0/<b>24</b><br>\n",
    "Estas dos se agruparian en 192.168.0.0/23<br>"
   ]
  },
  {
   "cell_type": "markdown",
   "metadata": {},
   "source": [
    "Doy una <b>Prefix/Mask</b> que se agrupe con 192.168.<b>0</b>.0/<b>23</b>:"
   ]
  },
  {
   "cell_type": "markdown",
   "metadata": {},
   "source": [
    "- 192.168.<b>1</b>.0/<b>23</b><br>"
   ]
  },
  {
   "cell_type": "markdown",
   "metadata": {},
   "source": [
    "Todas estas se agrupan en:"
   ]
  },
  {
   "cell_type": "markdown",
   "metadata": {},
   "source": [
    "192.168.0.0/<b>22</b><br>"
   ]
  },
  {
   "cell_type": "markdown",
   "metadata": {},
   "source": [
    "<hr>"
   ]
  },
  {
   "cell_type": "markdown",
   "metadata": {},
   "source": [
    "b)"
   ]
  },
  {
   "cell_type": "markdown",
   "metadata": {},
   "source": [
    "Doy dos <b>Prefix</b> iguales que difieren en la <b>Mask</b>"
   ]
  },
  {
   "cell_type": "markdown",
   "metadata": {},
   "source": [
    "192.168.0.0/<b>24</b> = 192.168.00000000.<b>00000000</b>/<b>24</b><br>\n",
    "192.168.0.0/<b>23</b> = 192.168.0000000<b>0.00000000</b>/<b>23</b>"
   ]
  },
  {
   "cell_type": "markdown",
   "metadata": {},
   "source": [
    "192.168.0.0/24 esta contenida en 192.168.0.0/23"
   ]
  },
  {
   "cell_type": "markdown",
   "metadata": {},
   "source": [
    "<hr>"
   ]
  },
  {
   "cell_type": "markdown",
   "metadata": {},
   "source": [
    "c)"
   ]
  },
  {
   "cell_type": "markdown",
   "metadata": {},
   "source": [
    "- 192.168.1.0/23"
   ]
  },
  {
   "cell_type": "markdown",
   "metadata": {},
   "source": [
    "192.168.0000000<b>1</b>.<b>0000000</b>/23"
   ]
  },
  {
   "cell_type": "markdown",
   "metadata": {},
   "source": [
    "<hr>"
   ]
  },
  {
   "cell_type": "markdown",
   "metadata": {},
   "source": [
    "### Pregunta:"
   ]
  },
  {
   "cell_type": "markdown",
   "metadata": {},
   "source": [
    "172.128.6.0/<b>X</b>"
   ]
  },
  {
   "cell_type": "markdown",
   "metadata": {},
   "source": [
    "172.128.0000011<b>0.0000 0000</b>/23"
   ]
  },
  {
   "cell_type": "markdown",
   "metadata": {},
   "source": [
    "X=23"
   ]
  }
 ],
 "metadata": {
  "kernelspec": {
   "display_name": "Python 3",
   "language": "python",
   "name": "python3"
  },
  "language_info": {
   "codemirror_mode": {
    "name": "ipython",
    "version": 3
   },
   "file_extension": ".py",
   "mimetype": "text/x-python",
   "name": "python",
   "nbconvert_exporter": "python",
   "pygments_lexer": "ipython3",
   "version": "3.7.6"
  }
 },
 "nbformat": 4,
 "nbformat_minor": 4
}
