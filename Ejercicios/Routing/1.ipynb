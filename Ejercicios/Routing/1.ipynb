{
 "cells": [
  {
   "cell_type": "markdown",
   "metadata": {},
   "source": [
    "# Enunciado"
   ]
  },
  {
   "cell_type": "markdown",
   "metadata": {},
   "source": [
    "Dada una tabla de ruteo, se busca optimizar la configuración de las entradas. Explicar y dar un ejemplo de los siguientes casos:"
   ]
  },
  {
   "cell_type": "markdown",
   "metadata": {},
   "source": [
    "a) La tabla de ruteo contiene 3 entradas que se pueden agregar en una única\n",
    "entrada."
   ]
  },
  {
   "cell_type": "markdown",
   "metadata": {},
   "source": [
    "b) La tabla de ruteo contiene una entrada ya contenida en otra entrada."
   ]
  },
  {
   "cell_type": "markdown",
   "metadata": {},
   "source": [
    "c)La tabla de ruteo contiene una entrada mal configurada, donde el prefijo es\n",
    "más específico de lo que la máscara permite."
   ]
  },
  {
   "cell_type": "markdown",
   "metadata": {},
   "source": [
    "Pregunta. Si tenemos el siguiente prefijo: 172.128.6.0/x.\n",
    "¿Cuál es el mínimo valor que puede tomar x?. Justificar."
   ]
  },
  {
   "cell_type": "markdown",
   "metadata": {},
   "source": [
    "<hr>"
   ]
  },
  {
   "cell_type": "markdown",
   "metadata": {},
   "source": [
    "# Resolucion"
   ]
  },
  {
   "cell_type": "markdown",
   "metadata": {},
   "source": [
    "a)"
   ]
  },
  {
   "cell_type": "markdown",
   "metadata": {},
   "source": [
    "192.168.0.0/24<br>\n",
    "192.168.1.0/24<br>\n",
    "192.168.1.0/23<br>"
   ]
  },
  {
   "cell_type": "markdown",
   "metadata": {},
   "source": [
    "192.168.0.0/23<br>\n",
    "192.168.1.0/23<br>"
   ]
  },
  {
   "cell_type": "markdown",
   "metadata": {},
   "source": [
    "192.168.0.0/22<br>"
   ]
  },
  {
   "cell_type": "markdown",
   "metadata": {},
   "source": [
    "b)"
   ]
  },
  {
   "cell_type": "markdown",
   "metadata": {},
   "source": [
    "192.168.0.0/24 = 192.168.00000000.<b>00000000</b>/24<br>\n",
    "192.168.0.0/23 = 192.168.0000000<b>0.00000000</b>/23"
   ]
  },
  {
   "cell_type": "markdown",
   "metadata": {},
   "source": [
    "190.20.34.0 = 190.20.34.<b>00000000</b><br>\n",
    "190.20.00.0 = 190.20.<b>00000000.00000000</b><br>"
   ]
  },
  {
   "cell_type": "markdown",
   "metadata": {},
   "source": [
    "c)"
   ]
  },
  {
   "cell_type": "markdown",
   "metadata": {},
   "source": [
    "192.168.0.1/24"
   ]
  },
  {
   "cell_type": "markdown",
   "metadata": {},
   "source": [
    "Pregunta:"
   ]
  },
  {
   "cell_type": "markdown",
   "metadata": {},
   "source": [
    "172.128.6.0/x"
   ]
  },
  {
   "cell_type": "markdown",
   "metadata": {},
   "source": [
    "172.128.0000 011<b>0.0000 0000</b>/23"
   ]
  },
  {
   "cell_type": "markdown",
   "metadata": {},
   "source": [
    "x=23"
   ]
  },
  {
   "cell_type": "markdown",
   "metadata": {},
   "source": [
    "182.64.46.0/x"
   ]
  },
  {
   "cell_type": "markdown",
   "metadata": {},
   "source": [
    "182.64.0010 111<b>0.0000 0000</b>/23"
   ]
  },
  {
   "cell_type": "markdown",
   "metadata": {},
   "source": [
    "x=23"
   ]
  }
 ],
 "metadata": {
  "kernelspec": {
   "display_name": "Python 3",
   "language": "python",
   "name": "python3"
  },
  "language_info": {
   "codemirror_mode": {
    "name": "ipython",
    "version": 3
   },
   "file_extension": ".py",
   "mimetype": "text/x-python",
   "name": "python",
   "nbconvert_exporter": "python",
   "pygments_lexer": "ipython3",
   "version": "3.7.6"
  }
 },
 "nbformat": 4,
 "nbformat_minor": 4
}
