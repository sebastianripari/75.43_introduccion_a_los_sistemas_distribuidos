{
 "cells": [
  {
   "cell_type": "markdown",
   "metadata": {},
   "source": [
    "# Enunciado"
   ]
  },
  {
   "cell_type": "markdown",
   "metadata": {},
   "source": [
    "Dada la siguiente configuración, el host A envía un paquete cuya IP destino corresponde al host B. El\n",
    "router conectado directamente al host A por el enlace L1 tiene configurada su tabla de ruteo de manera\n",
    "tal que el paquete es forwardeado por la interfaz \"if1\"."
   ]
  },
  {
   "cell_type": "markdown",
   "metadata": {},
   "source": [
    "Teniendo en cuenta que se tienen los siguientes datos:"
   ]
  },
  {
   "cell_type": "markdown",
   "metadata": {},
   "source": [
    "<img src=\"../../images/ej_frag.jpg\" width=\"600\" />"
   ]
  },
  {
   "cell_type": "markdown",
   "metadata": {},
   "source": [
    "<hr>"
   ]
  },
  {
   "cell_type": "markdown",
   "metadata": {},
   "source": [
    "## L1"
   ]
  },
  {
   "cell_type": "markdown",
   "metadata": {},
   "source": [
    "Link|MTU (Bytes)|Datagram ID|Payload Size|Total Length|ID|Do not fragment|More fragments|Fragment Offset\n",
    "-|-|-|-|-|-|-|-|-\n",
    "L1|1500|1|1380|1400|0xF1B1|0|0|0"
   ]
  },
  {
   "cell_type": "markdown",
   "metadata": {},
   "source": [
    "## L2"
   ]
  },
  {
   "cell_type": "markdown",
   "metadata": {},
   "source": [
    "Calculamos el <b>MTU Efectivo</b>:"
   ]
  },
  {
   "cell_type": "markdown",
   "metadata": {},
   "source": [
    "piso((1280 - 20) / 8) * 8 = 1256"
   ]
  },
  {
   "cell_type": "markdown",
   "metadata": {},
   "source": [
    "Cantidad de paquetes = techo(1380/1256) = 2"
   ]
  },
  {
   "cell_type": "markdown",
   "metadata": {},
   "source": [
    "Link|MTU (Bytes)|Datagram ID|Payload Size|Total Length|ID|Do not fragment|More fragments|Fragment Offset\n",
    "-|-|-|-|-|-|-|-|-\n",
    "L1|1500|1|1380|1400|0xF1B1|0|0|0\n",
    "L2|1280|1.1|1256|1276|0xF1B1|0|1|0\n",
    "L2|1280|1.2|124|144|0xF1B1|0|0|157"
   ]
  },
  {
   "cell_type": "markdown",
   "metadata": {},
   "source": [
    "## L5"
   ]
  },
  {
   "cell_type": "markdown",
   "metadata": {},
   "source": [
    "Calculamos el <b>MTU Efectivo</b>:"
   ]
  },
  {
   "cell_type": "markdown",
   "metadata": {},
   "source": [
    "piso((600 - 20) / 8) * 8 = 576"
   ]
  },
  {
   "cell_type": "markdown",
   "metadata": {},
   "source": [
    "Cantidad de paquetes = techo(1256/576) = 3"
   ]
  },
  {
   "cell_type": "markdown",
   "metadata": {},
   "source": [
    "Cantidad de paquetes = techo(124/576) = 1"
   ]
  },
  {
   "cell_type": "markdown",
   "metadata": {},
   "source": [
    "Link|MTU (Bytes)|Datagram ID|Payload Size|Total Length|ID|Do not fragment|More fragments|Fragment Offset\n",
    "-|-|-|-|-|-|-|-|-\n",
    "L1|1500|1|1380|1400|0xF1B1|0|0|0\n",
    "L2|1280|1.1|1256|1276|0xF1B1|0|1|0\n",
    "L2|1280|1.2|124|144|0xF1B1|0|0|157\n",
    "L5|600|1.1.1|576|596|0xF1B1|0|1|0\n",
    "L5|600|1.1.2|576|596|0xF1B1|0|1|72\n",
    "L5|600|1.1.3|104|124|0xF1B1|0|1|144\n",
    "L5|600|1.2|124|144|0xF1B1|0|0|157"
   ]
  },
  {
   "cell_type": "markdown",
   "metadata": {},
   "source": [
    "## L8"
   ]
  },
  {
   "cell_type": "markdown",
   "metadata": {},
   "source": [
    "Link|MTU (Bytes)|Datagram ID|Payload Size|Total Length|ID|Do not fragment|More fragments|Fragment Offset\n",
    "-|-|-|-|-|-|-|-|-\n",
    "L1|1500|1|1380|1400|0xF1B1|0|0|0\n",
    "L2|1280|1.1|1256|1276|0xF1B1|0|1|0\n",
    "L2|1280|1.2|124|144|0xF1B1|0|0|157\n",
    "L5|600|1.1.1|576|596|0xF1B1|0|1|0\n",
    "L5|600|1.1.2|576|596|0xF1B1|0|1|72\n",
    "L5|600|1.1.3|104|124|0xF1B1|0|1|144\n",
    "L5|600|1.2|124|144|0xF1B1|0|0|157\n",
    "L8|1500|1.1.1|576|596|0xF1B1|0|1|0\n",
    "L8|1500|1.1.2|576|596|0xF1B1|0|1|72\n",
    "L8|1500|1.1.3|104|124|0xF1B1|0|1|144\n",
    "L8|1500|1.2|124|144|0xF1B1|0|0|157"
   ]
  }
 ],
 "metadata": {
  "kernelspec": {
   "display_name": "Python 3",
   "language": "python",
   "name": "python3"
  },
  "language_info": {
   "codemirror_mode": {
    "name": "ipython",
    "version": 3
   },
   "file_extension": ".py",
   "mimetype": "text/x-python",
   "name": "python",
   "nbconvert_exporter": "python",
   "pygments_lexer": "ipython3",
   "version": "3.7.6"
  }
 },
 "nbformat": 4,
 "nbformat_minor": 4
}
