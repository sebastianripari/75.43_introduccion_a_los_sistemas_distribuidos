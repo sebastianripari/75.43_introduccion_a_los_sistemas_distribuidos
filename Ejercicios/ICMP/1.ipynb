{
 "cells": [
  {
   "cell_type": "markdown",
   "metadata": {},
   "source": [
    "# Enunciado"
   ]
  },
  {
   "cell_type": "markdown",
   "metadata": {},
   "source": [
    "Responda <b>Verdadero</b> o <b>Falso</b>. Justifique la respuesta."
   ]
  },
  {
   "cell_type": "markdown",
   "metadata": {},
   "source": [
    "a. La herramienta ping utiliza UDP en su implementacion.<br>\n",
    "b. ICMP es un protocolo de transporte.<br>\n",
    "c. ICMP se elimina en IPv6.<br>\n",
    "d. El trafico ICMP no se puede filtrar debido a que ICMP es un protocolo de diagnostico y reporte de errores.<br>"
   ]
  },
  {
   "cell_type": "markdown",
   "metadata": {},
   "source": [
    "<hr>"
   ]
  },
  {
   "cell_type": "markdown",
   "metadata": {},
   "source": [
    "# Resolucion"
   ]
  },
  {
   "cell_type": "markdown",
   "metadata": {},
   "source": [
    "a. <b>Falso</b>. La herramienta PING utiliza el protocolo ICMP, Internet Control Message Protocol. No utiliza ninguno de los protocolos de transporte, por lo tanto no utiliza UDP y tampoco TCP."
   ]
  },
  {
   "cell_type": "markdown",
   "metadata": {},
   "source": [
    "b. <b>Falso</b>. No es un protocolo de transporte de datos, sino que es de soporte, para detectar errores y construir herramientas de soporte."
   ]
  },
  {
   "cell_type": "markdown",
   "metadata": {},
   "source": [
    "c. <b>Falso</b>. Existe en IPv6."
   ]
  },
  {
   "cell_type": "markdown",
   "metadata": {},
   "source": [
    "d. <b>Falso</b>. Si se puede filtrar. Para evitar congestión por ejemplo."
   ]
  }
 ],
 "metadata": {
  "kernelspec": {
   "display_name": "Python 3",
   "language": "python",
   "name": "python3"
  },
  "language_info": {
   "codemirror_mode": {
    "name": "ipython",
    "version": 3
   },
   "file_extension": ".py",
   "mimetype": "text/x-python",
   "name": "python",
   "nbconvert_exporter": "python",
   "pygments_lexer": "ipython3",
   "version": "3.7.6"
  }
 },
 "nbformat": 4,
 "nbformat_minor": 4
}
