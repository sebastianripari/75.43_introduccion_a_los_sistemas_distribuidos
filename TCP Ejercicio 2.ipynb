{
 "cells": [
  {
   "cell_type": "markdown",
   "metadata": {},
   "source": [
    "# Enunciado"
   ]
  },
  {
   "cell_type": "markdown",
   "metadata": {},
   "source": [
    "Dada una conexion TCP recien establecida (se asume ya fue realizado el handshake) entre dos host para la cual el <b>RTT</b> es de 250ms el <b>MSS</b> es de 1KB. Se desean transmitir 20KB de archivo."
   ]
  },
  {
   "cell_type": "markdown",
   "metadata": {},
   "source": [
    "La red por la cual estan conectados esta congestionada, de forma tal que al enviarse rafagas de 7 o mas paquetes, se pierden todos los paquetes de la rafaga enviados por el cliente."
   ]
  },
  {
   "cell_type": "markdown",
   "metadata": {},
   "source": [
    "Otros datos:\n",
    "- <b>Initial Window</b>: 1KB\n",
    "- <b>Loss Window</b>: 1KB\n",
    "- <b>SS Tresshold</b>: 32KB\n",
    "- <b>RWND</b>: 10KB\n",
    "- <b>Timeout</b> equivale a 2RTT"
   ]
  },
  {
   "cell_type": "markdown",
   "metadata": {},
   "source": [
    "a) Calcular el tiempo que se tardara en enviar la totalidad de lo que se desea transmitir. Justificar mediante un seguimiento adecuado (grafico, tabla o algun tipo de explicacion paso a paso de cada ronda que se realiza)"
   ]
  },
  {
   "cell_type": "markdown",
   "metadata": {},
   "source": [
    "b) ¿Que sucederia en caso de que, cuando se produce la perdida, lo que se pierde son los paquetes que responde el servidor en lugar de los enviados por el cliente?"
   ]
  },
  {
   "cell_type": "markdown",
   "metadata": {},
   "source": [
    "<hr>"
   ]
  },
  {
   "cell_type": "markdown",
   "metadata": {},
   "source": [
    "# Resolucion"
   ]
  },
  {
   "cell_type": "markdown",
   "metadata": {},
   "source": [
    "RTT|CWND|RWND|FlightSize|Recv Bytes|SSTH|Comments\n",
    "-|-|-|-|-|-|-\n",
    "1|1KB|10KB|1KB|1KB|32KB|Slow Start => FlightSize = IW\n",
    "2|2KB|10KB|2KB|3KB|32KB|Se envia el doble de lo anterior => FlightSize = IW * 2\n",
    "3|4KB|10KB|4KB|7KB|32KB|Se envia el doble de lo anterior => FlightSize = IW * 2 * 2\n",
    "4|8KB|10KB|8KB|7KB|32KB|Se intenta enviar el doble de lo anterior => FlightSize = IW * 2 * 2 * 2. Pero no llega ningun byte debido a que se enviaron mas de 7KB. Asi que no habra respuesta. Se llegara a un timeout.\n",
    "5|-|-|-|-|-|Timeout primer RTT\n",
    "6|-|-|-|-|-|Timeout segundo RTT\n",
    "7|1KB|10KB|1KB|8KB|4KB|El nuevo SSTH es la ultima CWND / 2. Y el nuevo CWND es Loss Window (LW)\n",
    "8|2KB|10KB|2KB|10KB|4KB|Se envia el doble de lo anterior => FlightSize = LW * 2\n",
    "9|<b>4KB</b>|10KB|4KB|14KB|<b>4KB</b>|Se envia el doble de lo anterior => FlightSize = LW * 2 * 2\n",
    "10|5KB|10KB|5KB|19KB|4KB|Como llegue al valor del SSTH estamos en <b>Congestion Avoidance</b>\n",
    "11|6KB|10KB|1KB|<b>20KB</b>|4KB|Logre mandar los <b>20KB</b> asi que termina la transaccion. De FlightSize va 1KB porque es lo que necesitaba enviar para terminar de mandar el archivo."
   ]
  }
 ],
 "metadata": {
  "kernelspec": {
   "display_name": "Python 3",
   "language": "python",
   "name": "python3"
  },
  "language_info": {
   "codemirror_mode": {
    "name": "ipython",
    "version": 3
   },
   "file_extension": ".py",
   "mimetype": "text/x-python",
   "name": "python",
   "nbconvert_exporter": "python",
   "pygments_lexer": "ipython3",
   "version": "3.7.6"
  }
 },
 "nbformat": 4,
 "nbformat_minor": 4
}
